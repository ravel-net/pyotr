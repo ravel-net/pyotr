{
 "cells": [
  {
   "cell_type": "code",
   "execution_count": 1,
   "metadata": {},
   "outputs": [],
   "source": [
    "%run startup.py\n",
    "bf = Session(host=\"localhost\")"
   ]
  },
  {
   "cell_type": "code",
   "execution_count": 2,
   "metadata": {},
   "outputs": [
    {
     "data": {
      "text/plain": [
       "'T2_whole_topo'"
      ]
     },
     "execution_count": 2,
     "metadata": {},
     "output_type": "execute_result"
    }
   ],
   "source": [
    "# Assign a friendly name to your network and snapshot\n",
    "BASE_NETWORK_NAME = \"T2\"\n",
    "BASE_SNAPSHOT_NAME = \"T2_whole_topo\"\n",
    "\n",
    "BASE_SNAPSHOT_PATH = \"./networks/t2\"\n",
    "\n",
    "# Now create the network and initialize the snapshot\n",
    "bf.set_network(BASE_NETWORK_NAME)\n",
    "bf.init_snapshot(BASE_SNAPSHOT_PATH, name=BASE_SNAPSHOT_NAME, overwrite=True)"
   ]
  },
  {
   "cell_type": "code",
   "execution_count": 3,
   "metadata": {},
   "outputs": [
    {
     "data": {
      "text/plain": [
       "'two_b_links_inactive'"
      ]
     },
     "execution_count": 3,
     "metadata": {},
     "output_type": "execute_result"
    }
   ],
   "source": [
    "# Fork a new snapshot with backup links inactive\n",
    "BLINKS_INACTIVE_SNAPSHOT_NAME = \"two_b_links_inactive\"\n",
    "\n",
    "interfaces = [\n",
    "    Interface(hostname=\"r_1\", interface=\"Ethernet2\"),\n",
    "    Interface(hostname=\"r_v\", interface=\"Ethernet2\"),\n",
    "    Interface(hostname=\"r_2\", interface=\"Ethernet3\"),\n",
    "    Interface(hostname=\"r_w\", interface=\"Ethernet2\")\n",
    "    ]\n",
    "bf.fork_snapshot(BASE_SNAPSHOT_NAME, BLINKS_INACTIVE_SNAPSHOT_NAME, deactivate_interfaces=interfaces, overwrite=True)"
   ]
  },
  {
   "cell_type": "code",
   "execution_count": 4,
   "metadata": {},
   "outputs": [
    {
     "data": {
      "text/html": [
       "<style  type=\"text/css\" >\n",
       "#T_pybfstylerow0_col0,#T_pybfstylerow0_col1,#T_pybfstylerow0_col2,#T_pybfstylerow1_col0,#T_pybfstylerow1_col1,#T_pybfstylerow1_col2{\n",
       "            text-align:  left;\n",
       "            vertical-align:  top;\n",
       "        }</style><table id=\"T_pybfstyle\"  class=\"tex2jax_ignore\"><thead>    <tr>        <th class=\"blank level0\" ></th>        <th class=\"col_heading level0 col0\" >Flow</th>        <th class=\"col_heading level0 col1\" >Traces</th>        <th class=\"col_heading level0 col2\" >TraceCount</th>    </tr></thead><tbody>\n",
       "                <tr>\n",
       "                        <th id=\"T_pybfstylelevel0_row0\" class=\"row_heading level0 row0\" >0</th>\n",
       "                        <td id=\"T_pybfstylerow0_col0\" class=\"data row0 col0\" >Start Location: source1<br>Src IP: 10.0.4.20<br>Src Port: 49152<br>Dst IP: 10.0.3.2<br>Dst Port: 33434<br>IP Protocol: UDP</td>\n",
       "                        <td id=\"T_pybfstylerow0_col1\" class=\"data row0 col1\" ><span style=\"color:#7c020e; text-weight:bold;\">DENIED_OUT</span><br><strong>1</strong>. node: source1<br>&nbsp;&nbsp;ORIGINATED(default)<br>&nbsp;&nbsp;FORWARDED(Forwarded out interface: eth0 with resolved next-hop IP: 10.0.4.2, Routes: [static (Network: 0.0.0.0/0, Next Hop: interface eth0 ip 10.0.4.2)])<br>&nbsp;&nbsp;TRANSMITTED(eth0)<br><strong>2</strong>. node: r_1<br>&nbsp;&nbsp;RECEIVED(Ethernet0)<br>&nbsp;&nbsp;FORWARDED(Forwarded out interface: Ethernet1 with resolved next-hop IP: 10.0.0.2, Routes: [ospf (Network: 10.0.3.0/24, Next Hop: interface Ethernet1 ip 10.0.0.2)])<br>&nbsp;&nbsp;PERMITTED(ACL1 (EGRESS_FILTER))<br>&nbsp;&nbsp;TRANSMITTED(Ethernet1)<br><strong>3</strong>. node: r_u<br>&nbsp;&nbsp;RECEIVED(Ethernet0)<br>&nbsp;&nbsp;FORWARDED(Forwarded out interface: Ethernet1 with resolved next-hop IP: 10.0.1.2, Routes: [ospf (Network: 10.0.3.0/24, Next Hop: interface Ethernet1 ip 10.0.1.2)])<br>&nbsp;&nbsp;TRANSMITTED(Ethernet1)<br><strong>4</strong>. node: r_2<br>&nbsp;&nbsp;RECEIVED(Ethernet0)<br>&nbsp;&nbsp;FORWARDED(Forwarded out interface: Ethernet1 with resolved next-hop IP: 10.0.2.2, Routes: [ospf (Network: 10.0.3.0/24, Next Hop: interface Ethernet1 ip 10.0.2.2)])<br>&nbsp;&nbsp;DENIED(ACL2 (EGRESS_FILTER))</td>\n",
       "                        <td id=\"T_pybfstylerow0_col2\" class=\"data row0 col2\" >1</td>\n",
       "            </tr>\n",
       "            <tr>\n",
       "                        <th id=\"T_pybfstylelevel0_row1\" class=\"row_heading level0 row1\" >1</th>\n",
       "                        <td id=\"T_pybfstylerow1_col0\" class=\"data row1 col0\" >Start Location: source2<br>Src IP: 10.0.4.25<br>Src Port: 49152<br>Dst IP: 10.0.3.2<br>Dst Port: 33434<br>IP Protocol: UDP</td>\n",
       "                        <td id=\"T_pybfstylerow1_col1\" class=\"data row1 col1\" ><span style=\"color:#019612; text-weight:bold;\">ACCEPTED</span><br><strong>1</strong>. node: source2<br>&nbsp;&nbsp;ORIGINATED(default)<br>&nbsp;&nbsp;FORWARDED(Forwarded out interface: eth0 with resolved next-hop IP: 10.0.4.2, Routes: [static (Network: 0.0.0.0/0, Next Hop: interface eth0 ip 10.0.4.2)])<br>&nbsp;&nbsp;TRANSMITTED(eth0)<br><strong>2</strong>. node: r_1<br>&nbsp;&nbsp;RECEIVED(Ethernet0)<br>&nbsp;&nbsp;FORWARDED(Forwarded out interface: Ethernet1 with resolved next-hop IP: 10.0.0.2, Routes: [ospf (Network: 10.0.3.0/24, Next Hop: interface Ethernet1 ip 10.0.0.2)])<br>&nbsp;&nbsp;PERMITTED(ACL1 (EGRESS_FILTER))<br>&nbsp;&nbsp;TRANSMITTED(Ethernet1)<br><strong>3</strong>. node: r_u<br>&nbsp;&nbsp;RECEIVED(Ethernet0)<br>&nbsp;&nbsp;FORWARDED(Forwarded out interface: Ethernet1 with resolved next-hop IP: 10.0.1.2, Routes: [ospf (Network: 10.0.3.0/24, Next Hop: interface Ethernet1 ip 10.0.1.2)])<br>&nbsp;&nbsp;TRANSMITTED(Ethernet1)<br><strong>4</strong>. node: r_2<br>&nbsp;&nbsp;RECEIVED(Ethernet0)<br>&nbsp;&nbsp;FORWARDED(Forwarded out interface: Ethernet1 with resolved next-hop IP: 10.0.2.2, Routes: [ospf (Network: 10.0.3.0/24, Next Hop: interface Ethernet1 ip 10.0.2.2)])<br>&nbsp;&nbsp;PERMITTED(ACL2 (EGRESS_FILTER))<br>&nbsp;&nbsp;TRANSMITTED(Ethernet1)<br><strong>5</strong>. node: r_v<br>&nbsp;&nbsp;RECEIVED(Ethernet0)<br>&nbsp;&nbsp;FORWARDED(Forwarded out interface: Ethernet1, Routes: [connected (Network: 10.0.3.0/24, Next Hop: interface Ethernet1)])<br>&nbsp;&nbsp;TRANSMITTED(Ethernet1)<br><strong>6</strong>. node: r_w<br>&nbsp;&nbsp;RECEIVED(Ethernet0)<br>&nbsp;&nbsp;ACCEPTED(Ethernet0)</td>\n",
       "                        <td id=\"T_pybfstylerow1_col2\" class=\"data row1 col2\" >1</td>\n",
       "            </tr>\n",
       "    </tbody></table>"
      ],
      "text/plain": [
       "                                                  Flow  \\\n",
       "0  start=source1 [10.0.4.20:49152->10.0.3.2:33434 UDP]   \n",
       "1  start=source2 [10.0.4.25:49152->10.0.3.2:33434 UDP]   \n",
       "\n",
       "                                                                                                                                                                                                                                                                                                                                                                                                                                                                                                                                                                                                                                                                                                                                                                                                                                                                                                                                                                                                                                                                                                                                                       Traces  \\\n",
       "0                                                                                                                                                                                                                                                  [((ORIGINATED(default), FORWARDED(Forwarded out interface: eth0 with resolved next-hop IP: 10.0.4.2, Routes: [static (Network: 0.0.0.0/0, Next Hop: interface eth0 ip 10.0.4.2)]), TRANSMITTED(eth0)), (RECEIVED(Ethernet0), FORWARDED(Forwarded out interface: Ethernet1 with resolved next-hop IP: 10.0.0.2, Routes: [ospf (Network: 10.0.3.0/24, Next Hop: interface Ethernet1 ip 10.0.0.2)]), PERMITTED(ACL1 (EGRESS_FILTER)), TRANSMITTED(Ethernet1)), (RECEIVED(Ethernet0), FORWARDED(Forwarded out interface: Ethernet1 with resolved next-hop IP: 10.0.1.2, Routes: [ospf (Network: 10.0.3.0/24, Next Hop: interface Ethernet1 ip 10.0.1.2)]), TRANSMITTED(Ethernet1)), (RECEIVED(Ethernet0), FORWARDED(Forwarded out interface: Ethernet1 with resolved next-hop IP: 10.0.2.2, Routes: [ospf (Network: 10.0.3.0/24, Next Hop: interface Ethernet1 ip 10.0.2.2)]), DENIED(ACL2 (EGRESS_FILTER))))]   \n",
       "1  [((ORIGINATED(default), FORWARDED(Forwarded out interface: eth0 with resolved next-hop IP: 10.0.4.2, Routes: [static (Network: 0.0.0.0/0, Next Hop: interface eth0 ip 10.0.4.2)]), TRANSMITTED(eth0)), (RECEIVED(Ethernet0), FORWARDED(Forwarded out interface: Ethernet1 with resolved next-hop IP: 10.0.0.2, Routes: [ospf (Network: 10.0.3.0/24, Next Hop: interface Ethernet1 ip 10.0.0.2)]), PERMITTED(ACL1 (EGRESS_FILTER)), TRANSMITTED(Ethernet1)), (RECEIVED(Ethernet0), FORWARDED(Forwarded out interface: Ethernet1 with resolved next-hop IP: 10.0.1.2, Routes: [ospf (Network: 10.0.3.0/24, Next Hop: interface Ethernet1 ip 10.0.1.2)]), TRANSMITTED(Ethernet1)), (RECEIVED(Ethernet0), FORWARDED(Forwarded out interface: Ethernet1 with resolved next-hop IP: 10.0.2.2, Routes: [ospf (Network: 10.0.3.0/24, Next Hop: interface Ethernet1 ip 10.0.2.2)]), PERMITTED(ACL2 (EGRESS_FILTER)), TRANSMITTED(Ethernet1)), (RECEIVED(Ethernet0), FORWARDED(Forwarded out interface: Ethernet1, Routes: [connected (Network: 10.0.3.0/24, Next Hop: interface Ethernet1)]), TRANSMITTED(Ethernet1)), (RECEIVED(Ethernet0), ACCEPTED(Ethernet0)))]   \n",
       "\n",
       "  TraceCount  \n",
       "0          1  \n",
       "1          1  "
      ]
     },
     "metadata": {},
     "output_type": "display_data"
    }
   ],
   "source": [
    "# Do a traceroute from host1 to 1.0.2.2\n",
    "tr_frame = bf.q.traceroute(startLocation=\"/source/\", headers=HeaderConstraints(dstIps=\"r_w\")).answer(BLINKS_INACTIVE_SNAPSHOT_NAME).frame()\n",
    "\n",
    "# Display results using customizations to handle large string values\n",
    "\n",
    "show(tr_frame)"
   ]
  },
  {
   "cell_type": "code",
   "execution_count": 5,
   "metadata": {},
   "outputs": [
    {
     "data": {
      "text/plain": [
       "0    start=source2 [10.0.4.25->10.0.3.2 ICMP (type=8, code=0)]\n",
       "Name: Flow, dtype: object"
      ]
     },
     "execution_count": 5,
     "metadata": {},
     "output_type": "execute_result"
    }
   ],
   "source": [
    "result = bf.q.reachability(pathConstraints=PathConstraints(startLocation = '/source/'), headers=HeaderConstraints(dstIps='r_w'), actions='SUCCESS').answer().frame()\n",
    "\n",
    "result.Flow"
   ]
  },
  {
   "cell_type": "code",
   "execution_count": 6,
   "metadata": {},
   "outputs": [
    {
     "data": {
      "text/plain": [
       "'link_1u_inactive'"
      ]
     },
     "execution_count": 6,
     "metadata": {},
     "output_type": "execute_result"
    }
   ],
   "source": [
    "# link(1,u) fail\n",
    "# Fork a new snapshot with backup links inactive\n",
    "LINK_1u_INACTIVE_SNAPSHOT_NAME = \"link_1u_inactive\"\n",
    "\n",
    "interfaces = [\n",
    "    Interface(hostname=\"r_1\", interface=\"Ethernet1\"),\n",
    "    Interface(hostname=\"r_u\", interface=\"Ethernet0\"),\n",
    "    Interface(hostname=\"r_2\", interface=\"Ethernet3\"),\n",
    "    Interface(hostname=\"r_w\", interface=\"Ethernet2\")\n",
    "    ]\n",
    "bf.fork_snapshot(BASE_SNAPSHOT_NAME, LINK_1u_INACTIVE_SNAPSHOT_NAME, deactivate_interfaces=interfaces, overwrite=True)"
   ]
  },
  {
   "cell_type": "code",
   "execution_count": 7,
   "metadata": {},
   "outputs": [
    {
     "data": {
      "text/html": [
       "<style  type=\"text/css\" >\n",
       "#T_pybfstylerow0_col0,#T_pybfstylerow0_col1,#T_pybfstylerow0_col2,#T_pybfstylerow1_col0,#T_pybfstylerow1_col1,#T_pybfstylerow1_col2{\n",
       "            text-align:  left;\n",
       "            vertical-align:  top;\n",
       "        }</style><table id=\"T_pybfstyle\"  class=\"tex2jax_ignore\"><thead>    <tr>        <th class=\"blank level0\" ></th>        <th class=\"col_heading level0 col0\" >Flow</th>        <th class=\"col_heading level0 col1\" >Traces</th>        <th class=\"col_heading level0 col2\" >TraceCount</th>    </tr></thead><tbody>\n",
       "                <tr>\n",
       "                        <th id=\"T_pybfstylelevel0_row0\" class=\"row_heading level0 row0\" >0</th>\n",
       "                        <td id=\"T_pybfstylerow0_col0\" class=\"data row0 col0\" >Start Location: source1<br>Src IP: 10.0.4.20<br>Src Port: 49152<br>Dst IP: 10.0.3.2<br>Dst Port: 33434<br>IP Protocol: UDP</td>\n",
       "                        <td id=\"T_pybfstylerow0_col1\" class=\"data row0 col1\" ><span style=\"color:#019612; text-weight:bold;\">ACCEPTED</span><br><strong>1</strong>. node: source1<br>&nbsp;&nbsp;ORIGINATED(default)<br>&nbsp;&nbsp;FORWARDED(Forwarded out interface: eth0 with resolved next-hop IP: 10.0.4.2, Routes: [static (Network: 0.0.0.0/0, Next Hop: interface eth0 ip 10.0.4.2)])<br>&nbsp;&nbsp;TRANSMITTED(eth0)<br><strong>2</strong>. node: r_1<br>&nbsp;&nbsp;RECEIVED(Ethernet0)<br>&nbsp;&nbsp;FORWARDED(Forwarded out interface: Ethernet2 with resolved next-hop IP: 10.0.6.2, Routes: [ospf (Network: 10.0.3.0/24, Next Hop: interface Ethernet2 ip 10.0.6.2)])<br>&nbsp;&nbsp;PERMITTED(ACL1 (EGRESS_FILTER))<br>&nbsp;&nbsp;TRANSMITTED(Ethernet2)<br><strong>3</strong>. node: r_v<br>&nbsp;&nbsp;RECEIVED(Ethernet2)<br>&nbsp;&nbsp;FORWARDED(Forwarded out interface: Ethernet1, Routes: [connected (Network: 10.0.3.0/24, Next Hop: interface Ethernet1)])<br>&nbsp;&nbsp;TRANSMITTED(Ethernet1)<br><strong>4</strong>. node: r_w<br>&nbsp;&nbsp;RECEIVED(Ethernet0)<br>&nbsp;&nbsp;ACCEPTED(Ethernet0)</td>\n",
       "                        <td id=\"T_pybfstylerow0_col2\" class=\"data row0 col2\" >1</td>\n",
       "            </tr>\n",
       "            <tr>\n",
       "                        <th id=\"T_pybfstylelevel0_row1\" class=\"row_heading level0 row1\" >1</th>\n",
       "                        <td id=\"T_pybfstylerow1_col0\" class=\"data row1 col0\" >Start Location: source2<br>Src IP: 10.0.4.25<br>Src Port: 49152<br>Dst IP: 10.0.3.2<br>Dst Port: 33434<br>IP Protocol: UDP</td>\n",
       "                        <td id=\"T_pybfstylerow1_col1\" class=\"data row1 col1\" ><span style=\"color:#019612; text-weight:bold;\">ACCEPTED</span><br><strong>1</strong>. node: source2<br>&nbsp;&nbsp;ORIGINATED(default)<br>&nbsp;&nbsp;FORWARDED(Forwarded out interface: eth0 with resolved next-hop IP: 10.0.4.2, Routes: [static (Network: 0.0.0.0/0, Next Hop: interface eth0 ip 10.0.4.2)])<br>&nbsp;&nbsp;TRANSMITTED(eth0)<br><strong>2</strong>. node: r_1<br>&nbsp;&nbsp;RECEIVED(Ethernet0)<br>&nbsp;&nbsp;FORWARDED(Forwarded out interface: Ethernet2 with resolved next-hop IP: 10.0.6.2, Routes: [ospf (Network: 10.0.3.0/24, Next Hop: interface Ethernet2 ip 10.0.6.2)])<br>&nbsp;&nbsp;PERMITTED(ACL1 (EGRESS_FILTER))<br>&nbsp;&nbsp;TRANSMITTED(Ethernet2)<br><strong>3</strong>. node: r_v<br>&nbsp;&nbsp;RECEIVED(Ethernet2)<br>&nbsp;&nbsp;FORWARDED(Forwarded out interface: Ethernet1, Routes: [connected (Network: 10.0.3.0/24, Next Hop: interface Ethernet1)])<br>&nbsp;&nbsp;TRANSMITTED(Ethernet1)<br><strong>4</strong>. node: r_w<br>&nbsp;&nbsp;RECEIVED(Ethernet0)<br>&nbsp;&nbsp;ACCEPTED(Ethernet0)</td>\n",
       "                        <td id=\"T_pybfstylerow1_col2\" class=\"data row1 col2\" >1</td>\n",
       "            </tr>\n",
       "    </tbody></table>"
      ],
      "text/plain": [
       "                                                  Flow  \\\n",
       "0  start=source1 [10.0.4.20:49152->10.0.3.2:33434 UDP]   \n",
       "1  start=source2 [10.0.4.25:49152->10.0.3.2:33434 UDP]   \n",
       "\n",
       "                                                                                                                                                                                                                                                                                                                                                                                                                                                                                                                                                                                                                                                                              Traces  \\\n",
       "0  [((ORIGINATED(default), FORWARDED(Forwarded out interface: eth0 with resolved next-hop IP: 10.0.4.2, Routes: [static (Network: 0.0.0.0/0, Next Hop: interface eth0 ip 10.0.4.2)]), TRANSMITTED(eth0)), (RECEIVED(Ethernet0), FORWARDED(Forwarded out interface: Ethernet2 with resolved next-hop IP: 10.0.6.2, Routes: [ospf (Network: 10.0.3.0/24, Next Hop: interface Ethernet2 ip 10.0.6.2)]), PERMITTED(ACL1 (EGRESS_FILTER)), TRANSMITTED(Ethernet2)), (RECEIVED(Ethernet2), FORWARDED(Forwarded out interface: Ethernet1, Routes: [connected (Network: 10.0.3.0/24, Next Hop: interface Ethernet1)]), TRANSMITTED(Ethernet1)), (RECEIVED(Ethernet0), ACCEPTED(Ethernet0)))]   \n",
       "1  [((ORIGINATED(default), FORWARDED(Forwarded out interface: eth0 with resolved next-hop IP: 10.0.4.2, Routes: [static (Network: 0.0.0.0/0, Next Hop: interface eth0 ip 10.0.4.2)]), TRANSMITTED(eth0)), (RECEIVED(Ethernet0), FORWARDED(Forwarded out interface: Ethernet2 with resolved next-hop IP: 10.0.6.2, Routes: [ospf (Network: 10.0.3.0/24, Next Hop: interface Ethernet2 ip 10.0.6.2)]), PERMITTED(ACL1 (EGRESS_FILTER)), TRANSMITTED(Ethernet2)), (RECEIVED(Ethernet2), FORWARDED(Forwarded out interface: Ethernet1, Routes: [connected (Network: 10.0.3.0/24, Next Hop: interface Ethernet1)]), TRANSMITTED(Ethernet1)), (RECEIVED(Ethernet0), ACCEPTED(Ethernet0)))]   \n",
       "\n",
       "  TraceCount  \n",
       "0          1  \n",
       "1          1  "
      ]
     },
     "metadata": {},
     "output_type": "display_data"
    }
   ],
   "source": [
    "# Do a traceroute from host1 to 1.0.2.2\n",
    "tr_frame = bf.q.traceroute(startLocation=\"/source/\", headers=HeaderConstraints(dstIps=\"r_w\")).answer(LINK_1u_INACTIVE_SNAPSHOT_NAME).frame()\n",
    "\n",
    "# Display results using customizations to handle large string values\n",
    "\n",
    "show(tr_frame)"
   ]
  },
  {
   "cell_type": "code",
   "execution_count": 9,
   "metadata": {},
   "outputs": [
    {
     "data": {
      "text/plain": [
       "0    start=source1 [10.0.4.20->10.0.3.2 ICMP (type=8, code=0)]\n",
       "1    start=source2 [10.0.4.25->10.0.3.2 ICMP (type=8, code=0)]\n",
       "Name: Flow, dtype: object"
      ]
     },
     "execution_count": 9,
     "metadata": {},
     "output_type": "execute_result"
    }
   ],
   "source": [
    "result = bf.q.reachability(pathConstraints=PathConstraints(startLocation = '/source/'), headers=HeaderConstraints(dstIps='r_w'), actions='SUCCESS').answer(LINK_1u_INACTIVE_SNAPSHOT_NAME).frame()\n",
    "\n",
    "result.Flow"
   ]
  },
  {
   "cell_type": "code",
   "execution_count": 10,
   "metadata": {},
   "outputs": [
    {
     "data": {
      "text/plain": [
       "'link_2v_inactive'"
      ]
     },
     "execution_count": 10,
     "metadata": {},
     "output_type": "execute_result"
    }
   ],
   "source": [
    "# link(2,v) fail\n",
    "# Fork a new snapshot with backup links inactive\n",
    "LINK_2v_INACTIVE_SNAPSHOT_NAME = \"link_2v_inactive\"\n",
    "\n",
    "interfaces = [\n",
    "    Interface(hostname=\"r_1\", interface=\"Ethernet2\"),\n",
    "    Interface(hostname=\"r_v\", interface=\"Ethernet2\"),\n",
    "    Interface(hostname=\"r_2\", interface=\"Ethernet1\"),\n",
    "    Interface(hostname=\"r_v\", interface=\"Ethernet0\")\n",
    "    ]\n",
    "bf.fork_snapshot(BASE_SNAPSHOT_NAME, LINK_2v_INACTIVE_SNAPSHOT_NAME, deactivate_interfaces=interfaces, overwrite=True)"
   ]
  },
  {
   "cell_type": "code",
   "execution_count": 11,
   "metadata": {},
   "outputs": [
    {
     "data": {
      "text/html": [
       "<style  type=\"text/css\" >\n",
       "#T_pybfstylerow0_col0,#T_pybfstylerow0_col1,#T_pybfstylerow0_col2,#T_pybfstylerow1_col0,#T_pybfstylerow1_col1,#T_pybfstylerow1_col2{\n",
       "            text-align:  left;\n",
       "            vertical-align:  top;\n",
       "        }</style><table id=\"T_pybfstyle\"  class=\"tex2jax_ignore\"><thead>    <tr>        <th class=\"blank level0\" ></th>        <th class=\"col_heading level0 col0\" >Flow</th>        <th class=\"col_heading level0 col1\" >Traces</th>        <th class=\"col_heading level0 col2\" >TraceCount</th>    </tr></thead><tbody>\n",
       "                <tr>\n",
       "                        <th id=\"T_pybfstylelevel0_row0\" class=\"row_heading level0 row0\" >0</th>\n",
       "                        <td id=\"T_pybfstylerow0_col0\" class=\"data row0 col0\" >Start Location: source1<br>Src IP: 10.0.4.20<br>Src Port: 49152<br>Dst IP: 10.0.3.2<br>Dst Port: 33434<br>IP Protocol: UDP</td>\n",
       "                        <td id=\"T_pybfstylerow0_col1\" class=\"data row0 col1\" ><span style=\"color:#7c020e; text-weight:bold;\">DENIED_OUT</span><br><strong>1</strong>. node: source1<br>&nbsp;&nbsp;ORIGINATED(default)<br>&nbsp;&nbsp;FORWARDED(Forwarded out interface: eth0 with resolved next-hop IP: 10.0.4.2, Routes: [static (Network: 0.0.0.0/0, Next Hop: interface eth0 ip 10.0.4.2)])<br>&nbsp;&nbsp;TRANSMITTED(eth0)<br><strong>2</strong>. node: r_1<br>&nbsp;&nbsp;RECEIVED(Ethernet0)<br>&nbsp;&nbsp;FORWARDED(Forwarded out interface: Ethernet1 with resolved next-hop IP: 10.0.0.2, Routes: [ospf (Network: 10.0.3.0/24, Next Hop: interface Ethernet1 ip 10.0.0.2)])<br>&nbsp;&nbsp;PERMITTED(ACL1 (EGRESS_FILTER))<br>&nbsp;&nbsp;TRANSMITTED(Ethernet1)<br><strong>3</strong>. node: r_u<br>&nbsp;&nbsp;RECEIVED(Ethernet0)<br>&nbsp;&nbsp;FORWARDED(Forwarded out interface: Ethernet1 with resolved next-hop IP: 10.0.1.2, Routes: [ospf (Network: 10.0.3.0/24, Next Hop: interface Ethernet1 ip 10.0.1.2)])<br>&nbsp;&nbsp;TRANSMITTED(Ethernet1)<br><strong>4</strong>. node: r_2<br>&nbsp;&nbsp;RECEIVED(Ethernet0)<br>&nbsp;&nbsp;FORWARDED(Forwarded out interface: Ethernet3 with resolved next-hop IP: 10.0.7.2, Routes: [ospf (Network: 10.0.3.0/24, Next Hop: interface Ethernet3 ip 10.0.7.2)])<br>&nbsp;&nbsp;DENIED(ACL2 (EGRESS_FILTER))</td>\n",
       "                        <td id=\"T_pybfstylerow0_col2\" class=\"data row0 col2\" >1</td>\n",
       "            </tr>\n",
       "            <tr>\n",
       "                        <th id=\"T_pybfstylelevel0_row1\" class=\"row_heading level0 row1\" >1</th>\n",
       "                        <td id=\"T_pybfstylerow1_col0\" class=\"data row1 col0\" >Start Location: source2<br>Src IP: 10.0.4.25<br>Src Port: 49152<br>Dst IP: 10.0.3.2<br>Dst Port: 33434<br>IP Protocol: UDP</td>\n",
       "                        <td id=\"T_pybfstylerow1_col1\" class=\"data row1 col1\" ><span style=\"color:#019612; text-weight:bold;\">ACCEPTED</span><br><strong>1</strong>. node: source2<br>&nbsp;&nbsp;ORIGINATED(default)<br>&nbsp;&nbsp;FORWARDED(Forwarded out interface: eth0 with resolved next-hop IP: 10.0.4.2, Routes: [static (Network: 0.0.0.0/0, Next Hop: interface eth0 ip 10.0.4.2)])<br>&nbsp;&nbsp;TRANSMITTED(eth0)<br><strong>2</strong>. node: r_1<br>&nbsp;&nbsp;RECEIVED(Ethernet0)<br>&nbsp;&nbsp;FORWARDED(Forwarded out interface: Ethernet1 with resolved next-hop IP: 10.0.0.2, Routes: [ospf (Network: 10.0.3.0/24, Next Hop: interface Ethernet1 ip 10.0.0.2)])<br>&nbsp;&nbsp;PERMITTED(ACL1 (EGRESS_FILTER))<br>&nbsp;&nbsp;TRANSMITTED(Ethernet1)<br><strong>3</strong>. node: r_u<br>&nbsp;&nbsp;RECEIVED(Ethernet0)<br>&nbsp;&nbsp;FORWARDED(Forwarded out interface: Ethernet1 with resolved next-hop IP: 10.0.1.2, Routes: [ospf (Network: 10.0.3.0/24, Next Hop: interface Ethernet1 ip 10.0.1.2)])<br>&nbsp;&nbsp;TRANSMITTED(Ethernet1)<br><strong>4</strong>. node: r_2<br>&nbsp;&nbsp;RECEIVED(Ethernet0)<br>&nbsp;&nbsp;FORWARDED(Forwarded out interface: Ethernet3 with resolved next-hop IP: 10.0.7.2, Routes: [ospf (Network: 10.0.3.0/24, Next Hop: interface Ethernet3 ip 10.0.7.2)])<br>&nbsp;&nbsp;PERMITTED(ACL2 (EGRESS_FILTER))<br>&nbsp;&nbsp;TRANSMITTED(Ethernet3)<br><strong>5</strong>. node: r_w<br>&nbsp;&nbsp;RECEIVED(Ethernet2)<br>&nbsp;&nbsp;ACCEPTED(Ethernet0)</td>\n",
       "                        <td id=\"T_pybfstylerow1_col2\" class=\"data row1 col2\" >1</td>\n",
       "            </tr>\n",
       "    </tbody></table>"
      ],
      "text/plain": [
       "                                                  Flow  \\\n",
       "0  start=source1 [10.0.4.20:49152->10.0.3.2:33434 UDP]   \n",
       "1  start=source2 [10.0.4.25:49152->10.0.3.2:33434 UDP]   \n",
       "\n",
       "                                                                                                                                                                                                                                                                                                                                                                                                                                                                                                                                                                                                                                                                                                                                                                                                                                                                                                                                                                              Traces  \\\n",
       "0                                                                         [((ORIGINATED(default), FORWARDED(Forwarded out interface: eth0 with resolved next-hop IP: 10.0.4.2, Routes: [static (Network: 0.0.0.0/0, Next Hop: interface eth0 ip 10.0.4.2)]), TRANSMITTED(eth0)), (RECEIVED(Ethernet0), FORWARDED(Forwarded out interface: Ethernet1 with resolved next-hop IP: 10.0.0.2, Routes: [ospf (Network: 10.0.3.0/24, Next Hop: interface Ethernet1 ip 10.0.0.2)]), PERMITTED(ACL1 (EGRESS_FILTER)), TRANSMITTED(Ethernet1)), (RECEIVED(Ethernet0), FORWARDED(Forwarded out interface: Ethernet1 with resolved next-hop IP: 10.0.1.2, Routes: [ospf (Network: 10.0.3.0/24, Next Hop: interface Ethernet1 ip 10.0.1.2)]), TRANSMITTED(Ethernet1)), (RECEIVED(Ethernet0), FORWARDED(Forwarded out interface: Ethernet3 with resolved next-hop IP: 10.0.7.2, Routes: [ospf (Network: 10.0.3.0/24, Next Hop: interface Ethernet3 ip 10.0.7.2)]), DENIED(ACL2 (EGRESS_FILTER))))]   \n",
       "1  [((ORIGINATED(default), FORWARDED(Forwarded out interface: eth0 with resolved next-hop IP: 10.0.4.2, Routes: [static (Network: 0.0.0.0/0, Next Hop: interface eth0 ip 10.0.4.2)]), TRANSMITTED(eth0)), (RECEIVED(Ethernet0), FORWARDED(Forwarded out interface: Ethernet1 with resolved next-hop IP: 10.0.0.2, Routes: [ospf (Network: 10.0.3.0/24, Next Hop: interface Ethernet1 ip 10.0.0.2)]), PERMITTED(ACL1 (EGRESS_FILTER)), TRANSMITTED(Ethernet1)), (RECEIVED(Ethernet0), FORWARDED(Forwarded out interface: Ethernet1 with resolved next-hop IP: 10.0.1.2, Routes: [ospf (Network: 10.0.3.0/24, Next Hop: interface Ethernet1 ip 10.0.1.2)]), TRANSMITTED(Ethernet1)), (RECEIVED(Ethernet0), FORWARDED(Forwarded out interface: Ethernet3 with resolved next-hop IP: 10.0.7.2, Routes: [ospf (Network: 10.0.3.0/24, Next Hop: interface Ethernet3 ip 10.0.7.2)]), PERMITTED(ACL2 (EGRESS_FILTER)), TRANSMITTED(Ethernet3)), (RECEIVED(Ethernet2), ACCEPTED(Ethernet0)))]   \n",
       "\n",
       "  TraceCount  \n",
       "0          1  \n",
       "1          1  "
      ]
     },
     "metadata": {},
     "output_type": "display_data"
    }
   ],
   "source": [
    "# Do a traceroute from host1 to 1.0.2.2\n",
    "tr_frame = bf.q.traceroute(startLocation=\"/source/\", headers=HeaderConstraints(dstIps=\"r_w\")).answer(LINK_2v_INACTIVE_SNAPSHOT_NAME).frame()\n",
    "\n",
    "# Display results using customizations to handle large string values\n",
    "\n",
    "show(tr_frame)"
   ]
  },
  {
   "cell_type": "code",
   "execution_count": 12,
   "metadata": {},
   "outputs": [
    {
     "data": {
      "text/plain": [
       "0    start=source2 [10.0.4.25->10.0.3.2 ICMP (type=8, code=0)]\n",
       "Name: Flow, dtype: object"
      ]
     },
     "execution_count": 12,
     "metadata": {},
     "output_type": "execute_result"
    }
   ],
   "source": [
    "result = bf.q.reachability(pathConstraints=PathConstraints(startLocation = '/source/'), headers=HeaderConstraints(dstIps='r_w'), actions='SUCCESS').answer(LINK_2v_INACTIVE_SNAPSHOT_NAME).frame()\n",
    "\n",
    "result.Flow"
   ]
  },
  {
   "cell_type": "code",
   "execution_count": 16,
   "metadata": {},
   "outputs": [
    {
     "data": {
      "text/plain": [
       "'link_2link_inactive'"
      ]
     },
     "execution_count": 16,
     "metadata": {},
     "output_type": "execute_result"
    }
   ],
   "source": [
    "# 2 links fail\n",
    "# Fork a new snapshot with backup links inactive\n",
    "LINK_2link_INACTIVE_SNAPSHOT_NAME = \"link_2link_inactive\"\n",
    "\n",
    "interfaces = [\n",
    "    Interface(hostname=\"r_1\", interface=\"Ethernet1\"),\n",
    "    Interface(hostname=\"r_u\", interface=\"Ethernet0\"),\n",
    "    Interface(hostname=\"r_2\", interface=\"Ethernet1\"),\n",
    "    Interface(hostname=\"r_v\", interface=\"Ethernet0\")\n",
    "    ]\n",
    "bf.fork_snapshot(BASE_SNAPSHOT_NAME, LINK_2link_INACTIVE_SNAPSHOT_NAME, deactivate_interfaces=interfaces, overwrite=True)"
   ]
  },
  {
   "cell_type": "code",
   "execution_count": 17,
   "metadata": {},
   "outputs": [
    {
     "data": {
      "text/html": [
       "<style  type=\"text/css\" >\n",
       "#T_pybfstylerow0_col0,#T_pybfstylerow0_col1,#T_pybfstylerow0_col2,#T_pybfstylerow1_col0,#T_pybfstylerow1_col1,#T_pybfstylerow1_col2{\n",
       "            text-align:  left;\n",
       "            vertical-align:  top;\n",
       "        }</style><table id=\"T_pybfstyle\"  class=\"tex2jax_ignore\"><thead>    <tr>        <th class=\"blank level0\" ></th>        <th class=\"col_heading level0 col0\" >Flow</th>        <th class=\"col_heading level0 col1\" >Traces</th>        <th class=\"col_heading level0 col2\" >TraceCount</th>    </tr></thead><tbody>\n",
       "                <tr>\n",
       "                        <th id=\"T_pybfstylelevel0_row0\" class=\"row_heading level0 row0\" >0</th>\n",
       "                        <td id=\"T_pybfstylerow0_col0\" class=\"data row0 col0\" >Start Location: source1<br>Src IP: 10.0.4.20<br>Src Port: 49152<br>Dst IP: 10.0.3.2<br>Dst Port: 33434<br>IP Protocol: UDP</td>\n",
       "                        <td id=\"T_pybfstylerow0_col1\" class=\"data row0 col1\" ><span style=\"color:#019612; text-weight:bold;\">ACCEPTED</span><br><strong>1</strong>. node: source1<br>&nbsp;&nbsp;ORIGINATED(default)<br>&nbsp;&nbsp;FORWARDED(Forwarded out interface: eth0 with resolved next-hop IP: 10.0.4.2, Routes: [static (Network: 0.0.0.0/0, Next Hop: interface eth0 ip 10.0.4.2)])<br>&nbsp;&nbsp;TRANSMITTED(eth0)<br><strong>2</strong>. node: r_1<br>&nbsp;&nbsp;RECEIVED(Ethernet0)<br>&nbsp;&nbsp;FORWARDED(Forwarded out interface: Ethernet2 with resolved next-hop IP: 10.0.6.2, Routes: [ospf (Network: 10.0.3.0/24, Next Hop: interface Ethernet2 ip 10.0.6.2)])<br>&nbsp;&nbsp;PERMITTED(ACL1 (EGRESS_FILTER))<br>&nbsp;&nbsp;TRANSMITTED(Ethernet2)<br><strong>3</strong>. node: r_v<br>&nbsp;&nbsp;RECEIVED(Ethernet2)<br>&nbsp;&nbsp;FORWARDED(Forwarded out interface: Ethernet1, Routes: [connected (Network: 10.0.3.0/24, Next Hop: interface Ethernet1)])<br>&nbsp;&nbsp;TRANSMITTED(Ethernet1)<br><strong>4</strong>. node: r_w<br>&nbsp;&nbsp;RECEIVED(Ethernet0)<br>&nbsp;&nbsp;ACCEPTED(Ethernet0)</td>\n",
       "                        <td id=\"T_pybfstylerow0_col2\" class=\"data row0 col2\" >1</td>\n",
       "            </tr>\n",
       "            <tr>\n",
       "                        <th id=\"T_pybfstylelevel0_row1\" class=\"row_heading level0 row1\" >1</th>\n",
       "                        <td id=\"T_pybfstylerow1_col0\" class=\"data row1 col0\" >Start Location: source2<br>Src IP: 10.0.4.25<br>Src Port: 49152<br>Dst IP: 10.0.3.2<br>Dst Port: 33434<br>IP Protocol: UDP</td>\n",
       "                        <td id=\"T_pybfstylerow1_col1\" class=\"data row1 col1\" ><span style=\"color:#019612; text-weight:bold;\">ACCEPTED</span><br><strong>1</strong>. node: source2<br>&nbsp;&nbsp;ORIGINATED(default)<br>&nbsp;&nbsp;FORWARDED(Forwarded out interface: eth0 with resolved next-hop IP: 10.0.4.2, Routes: [static (Network: 0.0.0.0/0, Next Hop: interface eth0 ip 10.0.4.2)])<br>&nbsp;&nbsp;TRANSMITTED(eth0)<br><strong>2</strong>. node: r_1<br>&nbsp;&nbsp;RECEIVED(Ethernet0)<br>&nbsp;&nbsp;FORWARDED(Forwarded out interface: Ethernet2 with resolved next-hop IP: 10.0.6.2, Routes: [ospf (Network: 10.0.3.0/24, Next Hop: interface Ethernet2 ip 10.0.6.2)])<br>&nbsp;&nbsp;PERMITTED(ACL1 (EGRESS_FILTER))<br>&nbsp;&nbsp;TRANSMITTED(Ethernet2)<br><strong>3</strong>. node: r_v<br>&nbsp;&nbsp;RECEIVED(Ethernet2)<br>&nbsp;&nbsp;FORWARDED(Forwarded out interface: Ethernet1, Routes: [connected (Network: 10.0.3.0/24, Next Hop: interface Ethernet1)])<br>&nbsp;&nbsp;TRANSMITTED(Ethernet1)<br><strong>4</strong>. node: r_w<br>&nbsp;&nbsp;RECEIVED(Ethernet0)<br>&nbsp;&nbsp;ACCEPTED(Ethernet0)</td>\n",
       "                        <td id=\"T_pybfstylerow1_col2\" class=\"data row1 col2\" >1</td>\n",
       "            </tr>\n",
       "    </tbody></table>"
      ],
      "text/plain": [
       "                                                  Flow  \\\n",
       "0  start=source1 [10.0.4.20:49152->10.0.3.2:33434 UDP]   \n",
       "1  start=source2 [10.0.4.25:49152->10.0.3.2:33434 UDP]   \n",
       "\n",
       "                                                                                                                                                                                                                                                                                                                                                                                                                                                                                                                                                                                                                                                                              Traces  \\\n",
       "0  [((ORIGINATED(default), FORWARDED(Forwarded out interface: eth0 with resolved next-hop IP: 10.0.4.2, Routes: [static (Network: 0.0.0.0/0, Next Hop: interface eth0 ip 10.0.4.2)]), TRANSMITTED(eth0)), (RECEIVED(Ethernet0), FORWARDED(Forwarded out interface: Ethernet2 with resolved next-hop IP: 10.0.6.2, Routes: [ospf (Network: 10.0.3.0/24, Next Hop: interface Ethernet2 ip 10.0.6.2)]), PERMITTED(ACL1 (EGRESS_FILTER)), TRANSMITTED(Ethernet2)), (RECEIVED(Ethernet2), FORWARDED(Forwarded out interface: Ethernet1, Routes: [connected (Network: 10.0.3.0/24, Next Hop: interface Ethernet1)]), TRANSMITTED(Ethernet1)), (RECEIVED(Ethernet0), ACCEPTED(Ethernet0)))]   \n",
       "1  [((ORIGINATED(default), FORWARDED(Forwarded out interface: eth0 with resolved next-hop IP: 10.0.4.2, Routes: [static (Network: 0.0.0.0/0, Next Hop: interface eth0 ip 10.0.4.2)]), TRANSMITTED(eth0)), (RECEIVED(Ethernet0), FORWARDED(Forwarded out interface: Ethernet2 with resolved next-hop IP: 10.0.6.2, Routes: [ospf (Network: 10.0.3.0/24, Next Hop: interface Ethernet2 ip 10.0.6.2)]), PERMITTED(ACL1 (EGRESS_FILTER)), TRANSMITTED(Ethernet2)), (RECEIVED(Ethernet2), FORWARDED(Forwarded out interface: Ethernet1, Routes: [connected (Network: 10.0.3.0/24, Next Hop: interface Ethernet1)]), TRANSMITTED(Ethernet1)), (RECEIVED(Ethernet0), ACCEPTED(Ethernet0)))]   \n",
       "\n",
       "  TraceCount  \n",
       "0          1  \n",
       "1          1  "
      ]
     },
     "metadata": {},
     "output_type": "display_data"
    }
   ],
   "source": [
    "# Do a traceroute from host1 to 1.0.2.2\n",
    "tr_frame = bf.q.traceroute(startLocation=\"/source/\", headers=HeaderConstraints(dstIps=\"r_w\")).answer(LINK_2link_INACTIVE_SNAPSHOT_NAME).frame()\n",
    "\n",
    "# Display results using customizations to handle large string values\n",
    "\n",
    "show(tr_frame)"
   ]
  },
  {
   "cell_type": "code",
   "execution_count": 18,
   "metadata": {},
   "outputs": [
    {
     "data": {
      "text/plain": [
       "0    start=source1 [10.0.4.20->10.0.3.2 ICMP (type=8, code=0)]\n",
       "1    start=source2 [10.0.4.25->10.0.3.2 ICMP (type=8, code=0)]\n",
       "Name: Flow, dtype: object"
      ]
     },
     "execution_count": 18,
     "metadata": {},
     "output_type": "execute_result"
    }
   ],
   "source": [
    "result = bf.q.reachability(pathConstraints=PathConstraints(startLocation = '/source/'), headers=HeaderConstraints(dstIps='r_w'), actions='SUCCESS').answer(LINK_2link_INACTIVE_SNAPSHOT_NAME).frame()\n",
    "\n",
    "result.Flow"
   ]
  }
 ],
 "metadata": {
  "interpreter": {
   "hash": "03fc45aebc5e0370b67188907b85f68eaf366c49623d93195379fe5fe2ab8f7b"
  },
  "kernelspec": {
   "display_name": "Python 3.9.12 64-bit ('exp': conda)",
   "name": "python3"
  },
  "language_info": {
   "codemirror_mode": {
    "name": "ipython",
    "version": 3
   },
   "file_extension": ".py",
   "mimetype": "text/x-python",
   "name": "python",
   "nbconvert_exporter": "python",
   "pygments_lexer": "ipython3",
   "version": "3.9.12"
  },
  "orig_nbformat": 4
 },
 "nbformat": 4,
 "nbformat_minor": 2
}

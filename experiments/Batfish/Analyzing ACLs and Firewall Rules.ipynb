{
 "cells": [
  {
   "cell_type": "code",
   "execution_count": 1,
   "metadata": {},
   "outputs": [],
   "source": [
    "from pybatfish.client.session import Session  # noqa: F401\n",
    "# noinspection PyUnresolvedReferences\n",
    "from pybatfish.datamodel import Edge, Interface  # noqa: F401\n",
    "from pybatfish.datamodel.answer import TableAnswer\n",
    "from pybatfish.datamodel.flow import HeaderConstraints, PathConstraints  # noqa: F401\n",
    "import time\n",
    "%run startup.py\n",
    "bf = Session(host=\"localhost\")"
   ]
  },
  {
   "cell_type": "code",
   "execution_count": 17,
   "metadata": {},
   "outputs": [
    {
     "name": "stdout",
     "output_type": "stream",
     "text": [
      "All sources to dest1\n",
      " 0    start=source1 [100.0.2.3:53->100.0.7.3:53 UDP]\n",
      "1    start=source2 [100.0.3.3:53->100.0.7.3:53 UDP]\n",
      "2    start=source3 [100.0.4.3:53->100.0.7.3:53 UDP]\n",
      "Name: Flow, dtype: object\n",
      "All sources to dest2\n",
      " 0    start=source1 [100.0.2.3:53->100.0.8.3:53 UDP]\n",
      "1    start=source2 [100.0.3.3:53->100.0.8.3:53 UDP]\n",
      "2    start=source3 [100.0.4.3:53->100.0.8.3:53 UDP]\n",
      "Name: Flow, dtype: object\n",
      "Time:  0.6474320888519287\n",
      "True\n"
     ]
    },
    {
     "data": {
      "text/html": [
       "<span style=\"color:#019612; text-weight:bold;\">ACCEPTED</span><br><strong>1</strong>. node: source2<br>&nbsp;&nbsp;ORIGINATED(default)<br>&nbsp;&nbsp;FORWARDED(Forwarded out interface: eth0 with resolved next-hop IP: 100.0.3.1, Routes: [static (Network: 0.0.0.0/0, Next Hop: interface eth0 ip 100.0.3.1)])<br>&nbsp;&nbsp;TRANSMITTED(eth0)<br><strong>2</strong>. node: r_1<br>&nbsp;&nbsp;RECEIVED(Ethernet2)<br>&nbsp;&nbsp;FORWARDED(Forwarded out interface: Ethernet0 with resolved next-hop IP: 1.0.0.2, Routes: [ospf (Network: 100.0.7.0/24, Next Hop: interface Ethernet0 ip 1.0.0.2)])<br>&nbsp;&nbsp;TRANSFORMED(SOURCE_NAT srcIp: 100.0.3.3 -> 100.0.2.3)<br>&nbsp;&nbsp;SETUP_SESSION(Incoming Interfaces: [Ethernet0], Action: PostNatFibLookup, Match Criteria: [ipProtocol=UDP, srcIp=100.0.7.3, dstIp=100.0.2.3, srcPort=53, dstPort=53], Transformation: [dstIp: 100.0.2.3 -> 100.0.3.3])<br>&nbsp;&nbsp;TRANSMITTED(Ethernet0)<br><strong>3</strong>. node: r_20<br>&nbsp;&nbsp;RECEIVED(Ethernet0)<br>&nbsp;&nbsp;FORWARDED(Forwarded out interface: Ethernet1 with resolved next-hop IP: 1.0.1.2, Routes: [ospf (Network: 100.0.7.0/24, Next Hop: interface Ethernet1 ip 1.0.1.2)])<br>&nbsp;&nbsp;TRANSMITTED(Ethernet1)<br><strong>4</strong>. node: r_2<br>&nbsp;&nbsp;RECEIVED(Ethernet0)<br>&nbsp;&nbsp;TRANSFORMED(DEST_NAT dstIp: 100.0.7.3 -> 100.0.8.3)<br>&nbsp;&nbsp;FORWARDED(Forwarded out interface: Ethernet2, Routes: [connected (Network: 100.0.8.0/24, Next Hop: interface Ethernet2)])<br>&nbsp;&nbsp;PERMITTED(ACL300 (EGRESS_FILTER))<br>&nbsp;&nbsp;SETUP_SESSION(Incoming Interfaces: [Ethernet1, Ethernet2, Ethernet3, Ethernet4], Action: PreNatFibLookup, Match Criteria: [ipProtocol=UDP, srcIp=100.0.8.3, dstIp=100.0.2.3, srcPort=53, dstPort=53], Transformation: [srcIp: 100.0.8.3 -> 100.0.7.3])<br>&nbsp;&nbsp;TRANSMITTED(Ethernet2)<br><strong>5</strong>. node: dest2<br>&nbsp;&nbsp;RECEIVED(eth0)<br>&nbsp;&nbsp;ACCEPTED(eth0)"
      ],
      "text/plain": [
       "Trace(disposition='ACCEPTED', hops=[Hop(node='source2', steps=[Step(detail=OriginateStepDetail(originatingVrf='default'), action='ORIGINATED'), Step(detail=RoutingStepDetail(routes=[RouteInfo(protocol='static', network='0.0.0.0/0', nextHop=NextHopInterface(interface='eth0', ip='100.0.3.1', type='interface'), nextHopIp=None, admin=1, metric=0)], forwardingDetail=ForwardedOutInterface(outputInterface='eth0', resolvedNextHopIp='100.0.3.1', type='ForwardedOutInterface'), arpIp='100.0.3.1', outputInterface='eth0'), action='FORWARDED'), Step(detail=ExitOutputIfaceStepDetail(outputInterface='eth0', transformedFlow=None), action='TRANSMITTED')]), Hop(node='r_1', steps=[Step(detail=EnterInputIfaceStepDetail(inputInterface='Ethernet2', inputVrf='default'), action='RECEIVED'), Step(detail=RoutingStepDetail(routes=[RouteInfo(protocol='ospf', network='100.0.7.0/24', nextHop=NextHopInterface(interface='Ethernet0', ip='1.0.0.2', type='interface'), nextHopIp=None, admin=110, metric=30)], forwardingDetail=ForwardedOutInterface(outputInterface='Ethernet0', resolvedNextHopIp='1.0.0.2', type='ForwardedOutInterface'), arpIp='1.0.0.2', outputInterface='Ethernet0'), action='FORWARDED'), Step(detail=TransformationStepDetail(transformationType='SOURCE_NAT', flowDiffs=[FlowDiff(fieldName='srcIp', oldValue='100.0.3.3', newValue='100.0.2.3')]), action='TRANSFORMED'), Step(detail=SetupSessionStepDetail(sessionScope=IncomingSessionScope(incomingInterfaces=['Ethernet0']), sessionAction=PostNatFibLookup(), matchCriteria=SessionMatchExpr(ipProtocol='UDP', srcIp='100.0.7.3', dstIp='100.0.2.3', srcPort=53, dstPort=53), transformation=[FlowDiff(fieldName='dstIp', oldValue='100.0.2.3', newValue='100.0.3.3')]), action='SETUP_SESSION'), Step(detail=ExitOutputIfaceStepDetail(outputInterface='Ethernet0', transformedFlow={'dscp': 0, 'dstIp': '100.0.7.3', 'dstPort': 53, 'ecn': 0, 'fragmentOffset': 0, 'ingressNode': 'source2', 'ingressVrf': 'default', 'ipProtocol': 'UDP', 'packetLength': 512, 'srcIp': '100.0.2.3', 'srcPort': 53, 'state': 'NEW', 'tag': 'tag', 'tcpFlagsAck': 0, 'tcpFlagsCwr': 0, 'tcpFlagsEce': 0, 'tcpFlagsFin': 0, 'tcpFlagsPsh': 0, 'tcpFlagsRst': 0, 'tcpFlagsSyn': 0, 'tcpFlagsUrg': 0}), action='TRANSMITTED')]), Hop(node='r_20', steps=[Step(detail=EnterInputIfaceStepDetail(inputInterface='Ethernet0', inputVrf='default'), action='RECEIVED'), Step(detail=RoutingStepDetail(routes=[RouteInfo(protocol='ospf', network='100.0.7.0/24', nextHop=NextHopInterface(interface='Ethernet1', ip='1.0.1.2', type='interface'), nextHopIp=None, admin=110, metric=20)], forwardingDetail=ForwardedOutInterface(outputInterface='Ethernet1', resolvedNextHopIp='1.0.1.2', type='ForwardedOutInterface'), arpIp='1.0.1.2', outputInterface='Ethernet1'), action='FORWARDED'), Step(detail=ExitOutputIfaceStepDetail(outputInterface='Ethernet1', transformedFlow=None), action='TRANSMITTED')]), Hop(node='r_2', steps=[Step(detail=EnterInputIfaceStepDetail(inputInterface='Ethernet0', inputVrf='default'), action='RECEIVED'), Step(detail=TransformationStepDetail(transformationType='DEST_NAT', flowDiffs=[FlowDiff(fieldName='dstIp', oldValue='100.0.7.3', newValue='100.0.8.3')]), action='TRANSFORMED'), Step(detail=RoutingStepDetail(routes=[RouteInfo(protocol='connected', network='100.0.8.0/24', nextHop=NextHopInterface(interface='Ethernet2', ip=None, type='interface'), nextHopIp=None, admin=0, metric=0)], forwardingDetail=ForwardedOutInterface(outputInterface='Ethernet2', resolvedNextHopIp=None, type='ForwardedOutInterface'), arpIp=None, outputInterface='Ethernet2'), action='FORWARDED'), Step(detail=FilterStepDetail(filter='ACL300', filterType='EGRESS_FILTER', inputInterface='Ethernet0', flow=Flow(dscp=0, dstIp='100.0.8.3', dstPort=53, ecn=0, fragmentOffset=0, icmpCode=None, icmpVar=None, ingressInterface=None, ingressNode='source2', ingressVrf='default', ipProtocol='UDP', packetLength=512, srcIp='100.0.2.3', srcPort=53, tcpFlagsAck=0, tcpFlagsCwr=0, tcpFlagsEce=0, tcpFlagsFin=0, tcpFlagsPsh=0, tcpFlagsRst=0, tcpFlagsSyn=0, tcpFlagsUrg=0)), action='PERMITTED'), Step(detail=SetupSessionStepDetail(sessionScope=IncomingSessionScope(incomingInterfaces=['Ethernet1', 'Ethernet2', 'Ethernet3', 'Ethernet4']), sessionAction=PreNatFibLookup(), matchCriteria=SessionMatchExpr(ipProtocol='UDP', srcIp='100.0.8.3', dstIp='100.0.2.3', srcPort=53, dstPort=53), transformation=[FlowDiff(fieldName='srcIp', oldValue='100.0.8.3', newValue='100.0.7.3')]), action='SETUP_SESSION'), Step(detail=ExitOutputIfaceStepDetail(outputInterface='Ethernet2', transformedFlow={'dscp': 0, 'dstIp': '100.0.8.3', 'dstPort': 53, 'ecn': 0, 'fragmentOffset': 0, 'ingressNode': 'source2', 'ingressVrf': 'default', 'ipProtocol': 'UDP', 'packetLength': 512, 'srcIp': '100.0.2.3', 'srcPort': 53, 'state': 'NEW', 'tag': 'tag', 'tcpFlagsAck': 0, 'tcpFlagsCwr': 0, 'tcpFlagsEce': 0, 'tcpFlagsFin': 0, 'tcpFlagsPsh': 0, 'tcpFlagsRst': 0, 'tcpFlagsSyn': 0, 'tcpFlagsUrg': 0}), action='TRANSMITTED')]), Hop(node='dest2', steps=[Step(detail=EnterInputIfaceStepDetail(inputInterface='eth0', inputVrf='default'), action='RECEIVED'), Step(detail=InboundStepDetail(interface='eth0'), action='ACCEPTED')])])"
      ]
     },
     "metadata": {},
     "output_type": "display_data"
    }
   ],
   "source": [
    "name = \"Invariant2\"\n",
    "BASE_NETWORK_NAME = name \n",
    "BASE_SNAPSHOT_NAME = name\n",
    "BASE_SNAPSHOT_PATH = \"./{}\".format(name)\n",
    "# Now create the network and initialize the snapshot\n",
    "bf.set_network(BASE_NETWORK_NAME)\n",
    "bf.init_snapshot(BASE_SNAPSHOT_PATH, name=BASE_SNAPSHOT_NAME, overwrite=True)\n",
    "begin = time.time()\n",
    "result = bf.q.reachability(pathConstraints=PathConstraints(startLocation = '/source/'), headers=HeaderConstraints(dstIps='/dest1/', srcPorts=53, dstPorts=53, ipProtocols='UDP', applications='DNS'), actions='SUCCESS', ignoreFilters=False).answer(BASE_SNAPSHOT_NAME).frame()\n",
    "\n",
    "\n",
    "result2 = bf.q.reachability(pathConstraints=PathConstraints(startLocation = '/source/'), headers=HeaderConstraints(dstIps='/dest2/', srcPorts=53, dstPorts=53, ipProtocols='UDP', applications='DNS'), actions='SUCCESS', ignoreFilters=False).answer(BASE_SNAPSHOT_NAME).frame()\n",
    "end = time.time()\n",
    "print(\"All sources to dest1\\n\",result.Flow)\n",
    "print(\"All sources to dest2\\n\",result2.Flow)\n",
    "print(\"Time: \", end-begin)\n",
    "print((\"node: source2\" in str(result.Traces[1][0][0])))\n",
    "show(result.Traces[1][0])"
   ]
  },
  {
   "cell_type": "code",
   "execution_count": 19,
   "metadata": {},
   "outputs": [
    {
     "name": "stdout",
     "output_type": "stream",
     "text": [
      "T1 ./T1 {1: [0], 20: [0]} {1: [1], 2: [0, 3], 40: [0]} /source/ r_2\n",
      "[Interface(hostname='r_1', interface='Ethernet0'), Interface(hostname='r_20', interface='Ethernet0')]\n"
     ]
    },
    {
     "data": {
      "text/html": [
       "<div>\n",
       "<style scoped>\n",
       "    .dataframe tbody tr th:only-of-type {\n",
       "        vertical-align: middle;\n",
       "    }\n",
       "\n",
       "    .dataframe tbody tr th {\n",
       "        vertical-align: top;\n",
       "    }\n",
       "\n",
       "    .dataframe thead th {\n",
       "        text-align: right;\n",
       "    }\n",
       "</style>\n",
       "<table border=\"1\" class=\"dataframe tex2jax_ignore\">\n",
       "  <thead>\n",
       "    <tr style=\"text-align: right;\">\n",
       "      <th></th>\n",
       "      <th>Flow</th>\n",
       "      <th>Snapshot_Traces</th>\n",
       "      <th>Snapshot_TraceCount</th>\n",
       "      <th>Reference_Traces</th>\n",
       "      <th>Reference_TraceCount</th>\n",
       "    </tr>\n",
       "  </thead>\n",
       "  <tbody>\n",
       "  </tbody>\n",
       "</table>\n",
       "</div>"
      ],
      "text/plain": [
       "Empty DataFrame\n",
       "Columns: [Flow, Snapshot_Traces, Snapshot_TraceCount, Reference_Traces, Reference_TraceCount]\n",
       "Index: []"
      ]
     },
     "metadata": {},
     "output_type": "display_data"
    },
    {
     "data": {
      "text/html": [
       "<style  type=\"text/css\" >\n",
       "#T_pybfstylerow0_col0,#T_pybfstylerow0_col1,#T_pybfstylerow0_col2,#T_pybfstylerow0_col3,#T_pybfstylerow0_col4,#T_pybfstylerow1_col0,#T_pybfstylerow1_col1,#T_pybfstylerow1_col2,#T_pybfstylerow1_col3,#T_pybfstylerow1_col4,#T_pybfstylerow2_col0,#T_pybfstylerow2_col1,#T_pybfstylerow2_col2,#T_pybfstylerow2_col3,#T_pybfstylerow2_col4{\n",
       "            text-align:  left;\n",
       "            vertical-align:  top;\n",
       "        }</style><table id=\"T_pybfstyle\"  class=\"tex2jax_ignore\"><thead>    <tr>        <th class=\"blank level0\" ></th>        <th class=\"col_heading level0 col0\" >Flow</th>        <th class=\"col_heading level0 col1\" >Snapshot_Traces</th>        <th class=\"col_heading level0 col2\" >Snapshot_TraceCount</th>        <th class=\"col_heading level0 col3\" >Reference_Traces</th>        <th class=\"col_heading level0 col4\" >Reference_TraceCount</th>    </tr></thead><tbody>\n",
       "                <tr>\n",
       "                        <th id=\"T_pybfstylelevel0_row0\" class=\"row_heading level0 row0\" >0</th>\n",
       "                        <td id=\"T_pybfstylerow0_col0\" class=\"data row0 col0\" >Start Location: source1<br>Src IP: 100.0.3.3<br>Dst IP: 1.0.1.2<br>IP Protocol: ICMP (type=8, code=0)</td>\n",
       "                        <td id=\"T_pybfstylerow0_col1\" class=\"data row0 col1\" ><span style=\"color:#019612; text-weight:bold;\">ACCEPTED</span><br><strong>1</strong>. node: source1<br>&nbsp;&nbsp;ORIGINATED(default)<br>&nbsp;&nbsp;FORWARDED(Forwarded out interface: eth0 with resolved next-hop IP: 100.0.2.1, Routes: [static (Network: 0.0.0.0/0, Next Hop: interface eth0 ip 100.0.2.1)])<br>&nbsp;&nbsp;TRANSMITTED(eth0)<br><strong>2</strong>. node: r_1<br>&nbsp;&nbsp;RECEIVED(Ethernet2)<br>&nbsp;&nbsp;FORWARDED(Forwarded out interface: Ethernet1, Routes: [connected (Network: 1.0.1.0/24, Next Hop: interface Ethernet1)])<br>&nbsp;&nbsp;PERMITTED(ACL1 (EGRESS_FILTER))<br>&nbsp;&nbsp;TRANSMITTED(Ethernet1)<br><strong>3</strong>. node: r_2<br>&nbsp;&nbsp;RECEIVED(Ethernet0)<br>&nbsp;&nbsp;ACCEPTED(Ethernet0)</td>\n",
       "                        <td id=\"T_pybfstylerow0_col2\" class=\"data row0 col2\" >1</td>\n",
       "                        <td id=\"T_pybfstylerow0_col3\" class=\"data row0 col3\" ><span style=\"color:#7c020e; text-weight:bold;\">NO_ROUTE</span><br><strong>1</strong>. node: source1<br>&nbsp;&nbsp;ORIGINATED(default)<br>&nbsp;&nbsp;FORWARDED(Forwarded out interface: eth0 with resolved next-hop IP: 100.0.2.1, Routes: [static (Network: 0.0.0.0/0, Next Hop: interface eth0 ip 100.0.2.1)])<br>&nbsp;&nbsp;TRANSMITTED(eth0)<br><strong>2</strong>. node: r_1<br>&nbsp;&nbsp;RECEIVED(Ethernet2)<br>&nbsp;&nbsp;NO_ROUTE(Discarded)</td>\n",
       "                        <td id=\"T_pybfstylerow0_col4\" class=\"data row0 col4\" >1</td>\n",
       "            </tr>\n",
       "            <tr>\n",
       "                        <th id=\"T_pybfstylelevel0_row1\" class=\"row_heading level0 row1\" >1</th>\n",
       "                        <td id=\"T_pybfstylerow1_col0\" class=\"data row1 col0\" >Start Location: source2<br>Src IP: 100.0.3.3<br>Dst IP: 1.0.1.2<br>IP Protocol: ICMP (type=8, code=0)</td>\n",
       "                        <td id=\"T_pybfstylerow1_col1\" class=\"data row1 col1\" ><span style=\"color:#019612; text-weight:bold;\">ACCEPTED</span><br><strong>1</strong>. node: source2<br>&nbsp;&nbsp;ORIGINATED(default)<br>&nbsp;&nbsp;FORWARDED(Forwarded out interface: eth0 with resolved next-hop IP: 100.0.3.1, Routes: [static (Network: 0.0.0.0/0, Next Hop: interface eth0 ip 100.0.3.1)])<br>&nbsp;&nbsp;TRANSMITTED(eth0)<br><strong>2</strong>. node: r_1<br>&nbsp;&nbsp;RECEIVED(Ethernet3)<br>&nbsp;&nbsp;FORWARDED(Forwarded out interface: Ethernet1, Routes: [connected (Network: 1.0.1.0/24, Next Hop: interface Ethernet1)])<br>&nbsp;&nbsp;PERMITTED(ACL1 (EGRESS_FILTER))<br>&nbsp;&nbsp;TRANSMITTED(Ethernet1)<br><strong>3</strong>. node: r_2<br>&nbsp;&nbsp;RECEIVED(Ethernet0)<br>&nbsp;&nbsp;ACCEPTED(Ethernet0)</td>\n",
       "                        <td id=\"T_pybfstylerow1_col2\" class=\"data row1 col2\" >1</td>\n",
       "                        <td id=\"T_pybfstylerow1_col3\" class=\"data row1 col3\" ><span style=\"color:#7c020e; text-weight:bold;\">NO_ROUTE</span><br><strong>1</strong>. node: source2<br>&nbsp;&nbsp;ORIGINATED(default)<br>&nbsp;&nbsp;FORWARDED(Forwarded out interface: eth0 with resolved next-hop IP: 100.0.3.1, Routes: [static (Network: 0.0.0.0/0, Next Hop: interface eth0 ip 100.0.3.1)])<br>&nbsp;&nbsp;TRANSMITTED(eth0)<br><strong>2</strong>. node: r_1<br>&nbsp;&nbsp;RECEIVED(Ethernet3)<br>&nbsp;&nbsp;NO_ROUTE(Discarded)</td>\n",
       "                        <td id=\"T_pybfstylerow1_col4\" class=\"data row1 col4\" >1</td>\n",
       "            </tr>\n",
       "            <tr>\n",
       "                        <th id=\"T_pybfstylelevel0_row2\" class=\"row_heading level0 row2\" >2</th>\n",
       "                        <td id=\"T_pybfstylerow2_col0\" class=\"data row2 col0\" >Start Location: source3<br>Src IP: 100.0.3.3<br>Dst IP: 1.0.1.2<br>IP Protocol: ICMP (type=8, code=0)</td>\n",
       "                        <td id=\"T_pybfstylerow2_col1\" class=\"data row2 col1\" ><span style=\"color:#019612; text-weight:bold;\">ACCEPTED</span><br><strong>1</strong>. node: source3<br>&nbsp;&nbsp;ORIGINATED(default)<br>&nbsp;&nbsp;FORWARDED(Forwarded out interface: eth0 with resolved next-hop IP: 100.0.4.1, Routes: [static (Network: 0.0.0.0/0, Next Hop: interface eth0 ip 100.0.4.1)])<br>&nbsp;&nbsp;TRANSMITTED(eth0)<br><strong>2</strong>. node: r_1<br>&nbsp;&nbsp;RECEIVED(Ethernet4)<br>&nbsp;&nbsp;FORWARDED(Forwarded out interface: Ethernet1, Routes: [connected (Network: 1.0.1.0/24, Next Hop: interface Ethernet1)])<br>&nbsp;&nbsp;PERMITTED(ACL1 (EGRESS_FILTER))<br>&nbsp;&nbsp;TRANSMITTED(Ethernet1)<br><strong>3</strong>. node: r_2<br>&nbsp;&nbsp;RECEIVED(Ethernet0)<br>&nbsp;&nbsp;ACCEPTED(Ethernet0)</td>\n",
       "                        <td id=\"T_pybfstylerow2_col2\" class=\"data row2 col2\" >1</td>\n",
       "                        <td id=\"T_pybfstylerow2_col3\" class=\"data row2 col3\" ><span style=\"color:#7c020e; text-weight:bold;\">NO_ROUTE</span><br><strong>1</strong>. node: source3<br>&nbsp;&nbsp;ORIGINATED(default)<br>&nbsp;&nbsp;FORWARDED(Forwarded out interface: eth0 with resolved next-hop IP: 100.0.4.1, Routes: [static (Network: 0.0.0.0/0, Next Hop: interface eth0 ip 100.0.4.1)])<br>&nbsp;&nbsp;TRANSMITTED(eth0)<br><strong>2</strong>. node: r_1<br>&nbsp;&nbsp;RECEIVED(Ethernet4)<br>&nbsp;&nbsp;NO_ROUTE(Discarded)</td>\n",
       "                        <td id=\"T_pybfstylerow2_col4\" class=\"data row2 col4\" >1</td>\n",
       "            </tr>\n",
       "    </tbody></table>"
      ],
      "text/plain": [
       "                                                       Flow  \\\n",
       "0  start=source1 [100.0.3.3->1.0.1.2 ICMP (type=8, code=0)]   \n",
       "1  start=source2 [100.0.3.3->1.0.1.2 ICMP (type=8, code=0)]   \n",
       "2  start=source3 [100.0.3.3->1.0.1.2 ICMP (type=8, code=0)]   \n",
       "\n",
       "                                                                                                                                                                                                                                                                                                                                                                                                                                                  Snapshot_Traces  \\\n",
       "0  [((ORIGINATED(default), FORWARDED(Forwarded out interface: eth0 with resolved next-hop IP: 100.0.2.1, Routes: [static (Network: 0.0.0.0/0, Next Hop: interface eth0 ip 100.0.2.1)]), TRANSMITTED(eth0)), (RECEIVED(Ethernet2), FORWARDED(Forwarded out interface: Ethernet1, Routes: [connected (Network: 1.0.1.0/24, Next Hop: interface Ethernet1)]), PERMITTED(ACL1 (EGRESS_FILTER)), TRANSMITTED(Ethernet1)), (RECEIVED(Ethernet0), ACCEPTED(Ethernet0)))]   \n",
       "1  [((ORIGINATED(default), FORWARDED(Forwarded out interface: eth0 with resolved next-hop IP: 100.0.3.1, Routes: [static (Network: 0.0.0.0/0, Next Hop: interface eth0 ip 100.0.3.1)]), TRANSMITTED(eth0)), (RECEIVED(Ethernet3), FORWARDED(Forwarded out interface: Ethernet1, Routes: [connected (Network: 1.0.1.0/24, Next Hop: interface Ethernet1)]), PERMITTED(ACL1 (EGRESS_FILTER)), TRANSMITTED(Ethernet1)), (RECEIVED(Ethernet0), ACCEPTED(Ethernet0)))]   \n",
       "2  [((ORIGINATED(default), FORWARDED(Forwarded out interface: eth0 with resolved next-hop IP: 100.0.4.1, Routes: [static (Network: 0.0.0.0/0, Next Hop: interface eth0 ip 100.0.4.1)]), TRANSMITTED(eth0)), (RECEIVED(Ethernet4), FORWARDED(Forwarded out interface: Ethernet1, Routes: [connected (Network: 1.0.1.0/24, Next Hop: interface Ethernet1)]), PERMITTED(ACL1 (EGRESS_FILTER)), TRANSMITTED(Ethernet1)), (RECEIVED(Ethernet0), ACCEPTED(Ethernet0)))]   \n",
       "\n",
       "  Snapshot_TraceCount  \\\n",
       "0                   1   \n",
       "1                   1   \n",
       "2                   1   \n",
       "\n",
       "                                                                                                                                                                                                                                        Reference_Traces  \\\n",
       "0  [((ORIGINATED(default), FORWARDED(Forwarded out interface: eth0 with resolved next-hop IP: 100.0.2.1, Routes: [static (Network: 0.0.0.0/0, Next Hop: interface eth0 ip 100.0.2.1)]), TRANSMITTED(eth0)), (RECEIVED(Ethernet2), NO_ROUTE(Discarded)))]   \n",
       "1  [((ORIGINATED(default), FORWARDED(Forwarded out interface: eth0 with resolved next-hop IP: 100.0.3.1, Routes: [static (Network: 0.0.0.0/0, Next Hop: interface eth0 ip 100.0.3.1)]), TRANSMITTED(eth0)), (RECEIVED(Ethernet3), NO_ROUTE(Discarded)))]   \n",
       "2  [((ORIGINATED(default), FORWARDED(Forwarded out interface: eth0 with resolved next-hop IP: 100.0.4.1, Routes: [static (Network: 0.0.0.0/0, Next Hop: interface eth0 ip 100.0.4.1)]), TRANSMITTED(eth0)), (RECEIVED(Ethernet4), NO_ROUTE(Discarded)))]   \n",
       "\n",
       "  Reference_TraceCount  \n",
       "0                    1  \n",
       "1                    1  \n",
       "2                    1  "
      ]
     },
     "metadata": {},
     "output_type": "display_data"
    },
    {
     "data": {
      "text/html": [
       "<style  type=\"text/css\" >\n",
       "#T_pybfstylerow0_col0,#T_pybfstylerow0_col1,#T_pybfstylerow0_col2,#T_pybfstylerow0_col3,#T_pybfstylerow0_col4,#T_pybfstylerow1_col0,#T_pybfstylerow1_col1,#T_pybfstylerow1_col2,#T_pybfstylerow1_col3,#T_pybfstylerow1_col4,#T_pybfstylerow2_col0,#T_pybfstylerow2_col1,#T_pybfstylerow2_col2,#T_pybfstylerow2_col3,#T_pybfstylerow2_col4{\n",
       "            text-align:  left;\n",
       "            vertical-align:  top;\n",
       "        }</style><table id=\"T_pybfstyle\"  class=\"tex2jax_ignore\"><thead>    <tr>        <th class=\"blank level0\" ></th>        <th class=\"col_heading level0 col0\" >Flow</th>        <th class=\"col_heading level0 col1\" >Snapshot_Traces</th>        <th class=\"col_heading level0 col2\" >Snapshot_TraceCount</th>        <th class=\"col_heading level0 col3\" >Reference_Traces</th>        <th class=\"col_heading level0 col4\" >Reference_TraceCount</th>    </tr></thead><tbody>\n",
       "                <tr>\n",
       "                        <th id=\"T_pybfstylelevel0_row0\" class=\"row_heading level0 row0\" >0</th>\n",
       "                        <td id=\"T_pybfstylerow0_col0\" class=\"data row0 col0\" >Start Location: source1<br>Src IP: 100.0.4.3<br>Dst IP: 1.0.1.2<br>IP Protocol: ICMP (type=8, code=0)</td>\n",
       "                        <td id=\"T_pybfstylerow0_col1\" class=\"data row0 col1\" ><span style=\"color:#019612; text-weight:bold;\">ACCEPTED</span><br><strong>1</strong>. node: source1<br>&nbsp;&nbsp;ORIGINATED(default)<br>&nbsp;&nbsp;FORWARDED(Forwarded out interface: eth0 with resolved next-hop IP: 100.0.2.1, Routes: [static (Network: 0.0.0.0/0, Next Hop: interface eth0 ip 100.0.2.1)])<br>&nbsp;&nbsp;TRANSMITTED(eth0)<br><strong>2</strong>. node: r_1<br>&nbsp;&nbsp;RECEIVED(Ethernet2)<br>&nbsp;&nbsp;FORWARDED(Forwarded out interface: Ethernet1, Routes: [connected (Network: 1.0.1.0/24, Next Hop: interface Ethernet1)])<br>&nbsp;&nbsp;PERMITTED(ACL1 (EGRESS_FILTER))<br>&nbsp;&nbsp;TRANSMITTED(Ethernet1)<br><strong>3</strong>. node: r_2<br>&nbsp;&nbsp;RECEIVED(Ethernet0)<br>&nbsp;&nbsp;ACCEPTED(Ethernet0)</td>\n",
       "                        <td id=\"T_pybfstylerow0_col2\" class=\"data row0 col2\" >1</td>\n",
       "                        <td id=\"T_pybfstylerow0_col3\" class=\"data row0 col3\" ><span style=\"color:#7c020e; text-weight:bold;\">NO_ROUTE</span><br><strong>1</strong>. node: source1<br>&nbsp;&nbsp;ORIGINATED(default)<br>&nbsp;&nbsp;FORWARDED(Forwarded out interface: eth0 with resolved next-hop IP: 100.0.2.1, Routes: [static (Network: 0.0.0.0/0, Next Hop: interface eth0 ip 100.0.2.1)])<br>&nbsp;&nbsp;TRANSMITTED(eth0)<br><strong>2</strong>. node: r_1<br>&nbsp;&nbsp;RECEIVED(Ethernet2)<br>&nbsp;&nbsp;NO_ROUTE(Discarded)</td>\n",
       "                        <td id=\"T_pybfstylerow0_col4\" class=\"data row0 col4\" >1</td>\n",
       "            </tr>\n",
       "            <tr>\n",
       "                        <th id=\"T_pybfstylelevel0_row1\" class=\"row_heading level0 row1\" >1</th>\n",
       "                        <td id=\"T_pybfstylerow1_col0\" class=\"data row1 col0\" >Start Location: source2<br>Src IP: 100.0.4.3<br>Dst IP: 1.0.1.2<br>IP Protocol: ICMP (type=8, code=0)</td>\n",
       "                        <td id=\"T_pybfstylerow1_col1\" class=\"data row1 col1\" ><span style=\"color:#019612; text-weight:bold;\">ACCEPTED</span><br><strong>1</strong>. node: source2<br>&nbsp;&nbsp;ORIGINATED(default)<br>&nbsp;&nbsp;FORWARDED(Forwarded out interface: eth0 with resolved next-hop IP: 100.0.3.1, Routes: [static (Network: 0.0.0.0/0, Next Hop: interface eth0 ip 100.0.3.1)])<br>&nbsp;&nbsp;TRANSMITTED(eth0)<br><strong>2</strong>. node: r_1<br>&nbsp;&nbsp;RECEIVED(Ethernet3)<br>&nbsp;&nbsp;FORWARDED(Forwarded out interface: Ethernet1, Routes: [connected (Network: 1.0.1.0/24, Next Hop: interface Ethernet1)])<br>&nbsp;&nbsp;PERMITTED(ACL1 (EGRESS_FILTER))<br>&nbsp;&nbsp;TRANSMITTED(Ethernet1)<br><strong>3</strong>. node: r_2<br>&nbsp;&nbsp;RECEIVED(Ethernet0)<br>&nbsp;&nbsp;ACCEPTED(Ethernet0)</td>\n",
       "                        <td id=\"T_pybfstylerow1_col2\" class=\"data row1 col2\" >1</td>\n",
       "                        <td id=\"T_pybfstylerow1_col3\" class=\"data row1 col3\" ><span style=\"color:#7c020e; text-weight:bold;\">NO_ROUTE</span><br><strong>1</strong>. node: source2<br>&nbsp;&nbsp;ORIGINATED(default)<br>&nbsp;&nbsp;FORWARDED(Forwarded out interface: eth0 with resolved next-hop IP: 100.0.3.1, Routes: [static (Network: 0.0.0.0/0, Next Hop: interface eth0 ip 100.0.3.1)])<br>&nbsp;&nbsp;TRANSMITTED(eth0)<br><strong>2</strong>. node: r_1<br>&nbsp;&nbsp;RECEIVED(Ethernet3)<br>&nbsp;&nbsp;NO_ROUTE(Discarded)</td>\n",
       "                        <td id=\"T_pybfstylerow1_col4\" class=\"data row1 col4\" >1</td>\n",
       "            </tr>\n",
       "            <tr>\n",
       "                        <th id=\"T_pybfstylelevel0_row2\" class=\"row_heading level0 row2\" >2</th>\n",
       "                        <td id=\"T_pybfstylerow2_col0\" class=\"data row2 col0\" >Start Location: source3<br>Src IP: 100.0.4.3<br>Dst IP: 1.0.1.2<br>IP Protocol: ICMP (type=8, code=0)</td>\n",
       "                        <td id=\"T_pybfstylerow2_col1\" class=\"data row2 col1\" ><span style=\"color:#019612; text-weight:bold;\">ACCEPTED</span><br><strong>1</strong>. node: source3<br>&nbsp;&nbsp;ORIGINATED(default)<br>&nbsp;&nbsp;FORWARDED(Forwarded out interface: eth0 with resolved next-hop IP: 100.0.4.1, Routes: [static (Network: 0.0.0.0/0, Next Hop: interface eth0 ip 100.0.4.1)])<br>&nbsp;&nbsp;TRANSMITTED(eth0)<br><strong>2</strong>. node: r_1<br>&nbsp;&nbsp;RECEIVED(Ethernet4)<br>&nbsp;&nbsp;FORWARDED(Forwarded out interface: Ethernet1, Routes: [connected (Network: 1.0.1.0/24, Next Hop: interface Ethernet1)])<br>&nbsp;&nbsp;PERMITTED(ACL1 (EGRESS_FILTER))<br>&nbsp;&nbsp;TRANSMITTED(Ethernet1)<br><strong>3</strong>. node: r_2<br>&nbsp;&nbsp;RECEIVED(Ethernet0)<br>&nbsp;&nbsp;ACCEPTED(Ethernet0)</td>\n",
       "                        <td id=\"T_pybfstylerow2_col2\" class=\"data row2 col2\" >1</td>\n",
       "                        <td id=\"T_pybfstylerow2_col3\" class=\"data row2 col3\" ><span style=\"color:#7c020e; text-weight:bold;\">NO_ROUTE</span><br><strong>1</strong>. node: source3<br>&nbsp;&nbsp;ORIGINATED(default)<br>&nbsp;&nbsp;FORWARDED(Forwarded out interface: eth0 with resolved next-hop IP: 100.0.4.1, Routes: [static (Network: 0.0.0.0/0, Next Hop: interface eth0 ip 100.0.4.1)])<br>&nbsp;&nbsp;TRANSMITTED(eth0)<br><strong>2</strong>. node: r_1<br>&nbsp;&nbsp;RECEIVED(Ethernet4)<br>&nbsp;&nbsp;NO_ROUTE(Discarded)</td>\n",
       "                        <td id=\"T_pybfstylerow2_col4\" class=\"data row2 col4\" >1</td>\n",
       "            </tr>\n",
       "    </tbody></table>"
      ],
      "text/plain": [
       "                                                       Flow  \\\n",
       "0  start=source1 [100.0.4.3->1.0.1.2 ICMP (type=8, code=0)]   \n",
       "1  start=source2 [100.0.4.3->1.0.1.2 ICMP (type=8, code=0)]   \n",
       "2  start=source3 [100.0.4.3->1.0.1.2 ICMP (type=8, code=0)]   \n",
       "\n",
       "                                                                                                                                                                                                                                                                                                                                                                                                                                                  Snapshot_Traces  \\\n",
       "0  [((ORIGINATED(default), FORWARDED(Forwarded out interface: eth0 with resolved next-hop IP: 100.0.2.1, Routes: [static (Network: 0.0.0.0/0, Next Hop: interface eth0 ip 100.0.2.1)]), TRANSMITTED(eth0)), (RECEIVED(Ethernet2), FORWARDED(Forwarded out interface: Ethernet1, Routes: [connected (Network: 1.0.1.0/24, Next Hop: interface Ethernet1)]), PERMITTED(ACL1 (EGRESS_FILTER)), TRANSMITTED(Ethernet1)), (RECEIVED(Ethernet0), ACCEPTED(Ethernet0)))]   \n",
       "1  [((ORIGINATED(default), FORWARDED(Forwarded out interface: eth0 with resolved next-hop IP: 100.0.3.1, Routes: [static (Network: 0.0.0.0/0, Next Hop: interface eth0 ip 100.0.3.1)]), TRANSMITTED(eth0)), (RECEIVED(Ethernet3), FORWARDED(Forwarded out interface: Ethernet1, Routes: [connected (Network: 1.0.1.0/24, Next Hop: interface Ethernet1)]), PERMITTED(ACL1 (EGRESS_FILTER)), TRANSMITTED(Ethernet1)), (RECEIVED(Ethernet0), ACCEPTED(Ethernet0)))]   \n",
       "2  [((ORIGINATED(default), FORWARDED(Forwarded out interface: eth0 with resolved next-hop IP: 100.0.4.1, Routes: [static (Network: 0.0.0.0/0, Next Hop: interface eth0 ip 100.0.4.1)]), TRANSMITTED(eth0)), (RECEIVED(Ethernet4), FORWARDED(Forwarded out interface: Ethernet1, Routes: [connected (Network: 1.0.1.0/24, Next Hop: interface Ethernet1)]), PERMITTED(ACL1 (EGRESS_FILTER)), TRANSMITTED(Ethernet1)), (RECEIVED(Ethernet0), ACCEPTED(Ethernet0)))]   \n",
       "\n",
       "  Snapshot_TraceCount  \\\n",
       "0                   1   \n",
       "1                   1   \n",
       "2                   1   \n",
       "\n",
       "                                                                                                                                                                                                                                        Reference_Traces  \\\n",
       "0  [((ORIGINATED(default), FORWARDED(Forwarded out interface: eth0 with resolved next-hop IP: 100.0.2.1, Routes: [static (Network: 0.0.0.0/0, Next Hop: interface eth0 ip 100.0.2.1)]), TRANSMITTED(eth0)), (RECEIVED(Ethernet2), NO_ROUTE(Discarded)))]   \n",
       "1  [((ORIGINATED(default), FORWARDED(Forwarded out interface: eth0 with resolved next-hop IP: 100.0.3.1, Routes: [static (Network: 0.0.0.0/0, Next Hop: interface eth0 ip 100.0.3.1)]), TRANSMITTED(eth0)), (RECEIVED(Ethernet3), NO_ROUTE(Discarded)))]   \n",
       "2  [((ORIGINATED(default), FORWARDED(Forwarded out interface: eth0 with resolved next-hop IP: 100.0.4.1, Routes: [static (Network: 0.0.0.0/0, Next Hop: interface eth0 ip 100.0.4.1)]), TRANSMITTED(eth0)), (RECEIVED(Ethernet4), NO_ROUTE(Discarded)))]   \n",
       "\n",
       "  Reference_TraceCount  \n",
       "0                    1  \n",
       "1                    1  \n",
       "2                    1  "
      ]
     },
     "metadata": {},
     "output_type": "display_data"
    }
   ],
   "source": [
    "network_name = 'T1'\n",
    "topo_dir = './T1'\n",
    "fail_links = {1: [0], 20: [0]}\n",
    "backup_links = {1: [1], 2: [0, 3], 40: [0]}\n",
    "source = \"/source/\"\n",
    "sink = \"r_2\"\n",
    "\n",
    "BASE_NETWORK_NAME = network_name\n",
    "BASE_SNAPSHOT_NAME = network_name\n",
    "BASE_SNAPSHOT_PATH = topo_dir\n",
    "# Now create the network and initialize the snapshot\n",
    "bf.set_network(BASE_NETWORK_NAME)\n",
    "bf.init_snapshot(BASE_SNAPSHOT_PATH, name=BASE_SNAPSHOT_NAME, overwrite=True)\n",
    "interfaces = []\n",
    "for router in backup_links:\n",
    "    for eth in backup_links[router]:\n",
    "        intf = Interface(hostname=\"r_{}\".format(router), interface=\"Ethernet{}\".format(eth))\n",
    "        interfaces.append(intf) \n",
    "\n",
    "print(network_name, topo_dir, fail_links, backup_links, source, sink)\n",
    "BASE_SNAPSHOT_NO_BACKUP_NAME = network_name+\"NO_BACKUP\"\n",
    "bf.fork_snapshot(BASE_SNAPSHOT_NAME, BASE_SNAPSHOT_NO_BACKUP_NAME, deactivate_interfaces=interfaces, overwrite=True)\n",
    "\n",
    "interfaces = []\n",
    "for router in fail_links:\n",
    "    for eth in fail_links[router]:\n",
    "        intf = Interface(hostname=\"r_{}\".format(router), interface=\"Ethernet{}\".format(eth))\n",
    "        interfaces.append(intf)\n",
    "print(interfaces)\n",
    "# Fork a new snapshot with selected backup links inactive\n",
    "LINKS_INACTIVE_SNAPSHOT_NAME = \"b_links_inactive\"\n",
    "begin_snap = time.time()\n",
    "bf.fork_snapshot(BASE_SNAPSHOT_NAME, LINKS_INACTIVE_SNAPSHOT_NAME, deactivate_interfaces=interfaces, overwrite=True)\n",
    "end_snap = time.time()\n",
    "begin_failures = time.time()\n",
    "diff_reachability_answer1 = bf.q.differentialReachability(pathConstraints=PathConstraints(startLocation=source), headers=HeaderConstraints(srcIps='/source1/', dstIps=sink), actions='SUCCESS', ignoreFilters=False).answer(snapshot=LINKS_INACTIVE_SNAPSHOT_NAME, reference_snapshot=BASE_SNAPSHOT_NO_BACKUP_NAME).frame()\n",
    "diff_reachability_answer2 = bf.q.differentialReachability(pathConstraints=PathConstraints(startLocation=source), headers=HeaderConstraints(srcIps='/source2/', dstIps=sink), actions='SUCCESS', ignoreFilters=False).answer(snapshot=LINKS_INACTIVE_SNAPSHOT_NAME, reference_snapshot=BASE_SNAPSHOT_NO_BACKUP_NAME).frame()\n",
    "diff_reachability_answer3 = bf.q.differentialReachability(pathConstraints=PathConstraints(startLocation=source), headers=HeaderConstraints(srcIps='/source3/', dstIps=sink), actions='SUCCESS', ignoreFilters=False).answer(snapshot=LINKS_INACTIVE_SNAPSHOT_NAME, reference_snapshot=BASE_SNAPSHOT_NO_BACKUP_NAME).frame()\n",
    "end_failures = time.time()\n",
    "answer1 = (len(diff_reachability_answer1.Flow) == 0)\n",
    "answer2 = (len(diff_reachability_answer2.Flow) == 0)\n",
    "answer3 = (len(diff_reachability_answer3.Flow) == 0)\n",
    "show(diff_reachability_answer1)\n",
    "show(diff_reachability_answer2)\n",
    "show(diff_reachability_answer3)"
   ]
  },
  {
   "cell_type": "code",
   "execution_count": null,
   "metadata": {},
   "outputs": [],
   "source": []
  }
 ],
 "metadata": {
  "hide_input": false,
  "kernelspec": {
   "display_name": "Python 3",
   "language": "python",
   "name": "python3"
  },
  "language_info": {
   "codemirror_mode": {
    "name": "ipython",
    "version": 3
   },
   "file_extension": ".py",
   "mimetype": "text/x-python",
   "name": "python",
   "nbconvert_exporter": "python",
   "pygments_lexer": "ipython3",
   "version": "3.8.10"
  }
 },
 "nbformat": 4,
 "nbformat_minor": 2
}

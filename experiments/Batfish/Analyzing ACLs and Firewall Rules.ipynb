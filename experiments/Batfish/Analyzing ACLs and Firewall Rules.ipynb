{
 "cells": [
  {
   "cell_type": "code",
   "execution_count": 3,
   "metadata": {},
   "outputs": [],
   "source": [
    "from pybatfish.client.session import Session  # noqa: F401\n",
    "# noinspection PyUnresolvedReferences\n",
    "from pybatfish.datamodel import Edge, Interface  # noqa: F401\n",
    "from pybatfish.datamodel.answer import TableAnswer\n",
    "from pybatfish.datamodel.flow import HeaderConstraints, PathConstraints  # noqa: F401\n",
    "import time\n",
    "%run startup.py\n",
    "bf = Session(host=\"localhost\")"
   ]
  },
  {
   "cell_type": "code",
   "execution_count": 17,
   "metadata": {},
   "outputs": [
    {
     "name": "stdout",
     "output_type": "stream",
     "text": [
      "All sources to dest1\n",
      " 0    start=source1 [100.0.2.3:53->100.0.7.3:53 UDP]\n",
      "1    start=source2 [100.0.3.3:53->100.0.7.3:53 UDP]\n",
      "2    start=source3 [100.0.4.3:53->100.0.7.3:53 UDP]\n",
      "Name: Flow, dtype: object\n",
      "All sources to dest2\n",
      " 0    start=source1 [100.0.2.3:53->100.0.8.3:53 UDP]\n",
      "1    start=source2 [100.0.3.3:53->100.0.8.3:53 UDP]\n",
      "2    start=source3 [100.0.4.3:53->100.0.8.3:53 UDP]\n",
      "Name: Flow, dtype: object\n",
      "Time:  0.6474320888519287\n",
      "True\n"
     ]
    },
    {
     "data": {
      "text/html": [
       "<span style=\"color:#019612; text-weight:bold;\">ACCEPTED</span><br><strong>1</strong>. node: source2<br>&nbsp;&nbsp;ORIGINATED(default)<br>&nbsp;&nbsp;FORWARDED(Forwarded out interface: eth0 with resolved next-hop IP: 100.0.3.1, Routes: [static (Network: 0.0.0.0/0, Next Hop: interface eth0 ip 100.0.3.1)])<br>&nbsp;&nbsp;TRANSMITTED(eth0)<br><strong>2</strong>. node: r_1<br>&nbsp;&nbsp;RECEIVED(Ethernet2)<br>&nbsp;&nbsp;FORWARDED(Forwarded out interface: Ethernet0 with resolved next-hop IP: 1.0.0.2, Routes: [ospf (Network: 100.0.7.0/24, Next Hop: interface Ethernet0 ip 1.0.0.2)])<br>&nbsp;&nbsp;TRANSFORMED(SOURCE_NAT srcIp: 100.0.3.3 -> 100.0.2.3)<br>&nbsp;&nbsp;SETUP_SESSION(Incoming Interfaces: [Ethernet0], Action: PostNatFibLookup, Match Criteria: [ipProtocol=UDP, srcIp=100.0.7.3, dstIp=100.0.2.3, srcPort=53, dstPort=53], Transformation: [dstIp: 100.0.2.3 -> 100.0.3.3])<br>&nbsp;&nbsp;TRANSMITTED(Ethernet0)<br><strong>3</strong>. node: r_20<br>&nbsp;&nbsp;RECEIVED(Ethernet0)<br>&nbsp;&nbsp;FORWARDED(Forwarded out interface: Ethernet1 with resolved next-hop IP: 1.0.1.2, Routes: [ospf (Network: 100.0.7.0/24, Next Hop: interface Ethernet1 ip 1.0.1.2)])<br>&nbsp;&nbsp;TRANSMITTED(Ethernet1)<br><strong>4</strong>. node: r_2<br>&nbsp;&nbsp;RECEIVED(Ethernet0)<br>&nbsp;&nbsp;TRANSFORMED(DEST_NAT dstIp: 100.0.7.3 -> 100.0.8.3)<br>&nbsp;&nbsp;FORWARDED(Forwarded out interface: Ethernet2, Routes: [connected (Network: 100.0.8.0/24, Next Hop: interface Ethernet2)])<br>&nbsp;&nbsp;PERMITTED(ACL300 (EGRESS_FILTER))<br>&nbsp;&nbsp;SETUP_SESSION(Incoming Interfaces: [Ethernet1, Ethernet2, Ethernet3, Ethernet4], Action: PreNatFibLookup, Match Criteria: [ipProtocol=UDP, srcIp=100.0.8.3, dstIp=100.0.2.3, srcPort=53, dstPort=53], Transformation: [srcIp: 100.0.8.3 -> 100.0.7.3])<br>&nbsp;&nbsp;TRANSMITTED(Ethernet2)<br><strong>5</strong>. node: dest2<br>&nbsp;&nbsp;RECEIVED(eth0)<br>&nbsp;&nbsp;ACCEPTED(eth0)"
      ],
      "text/plain": [
       "Trace(disposition='ACCEPTED', hops=[Hop(node='source2', steps=[Step(detail=OriginateStepDetail(originatingVrf='default'), action='ORIGINATED'), Step(detail=RoutingStepDetail(routes=[RouteInfo(protocol='static', network='0.0.0.0/0', nextHop=NextHopInterface(interface='eth0', ip='100.0.3.1', type='interface'), nextHopIp=None, admin=1, metric=0)], forwardingDetail=ForwardedOutInterface(outputInterface='eth0', resolvedNextHopIp='100.0.3.1', type='ForwardedOutInterface'), arpIp='100.0.3.1', outputInterface='eth0'), action='FORWARDED'), Step(detail=ExitOutputIfaceStepDetail(outputInterface='eth0', transformedFlow=None), action='TRANSMITTED')]), Hop(node='r_1', steps=[Step(detail=EnterInputIfaceStepDetail(inputInterface='Ethernet2', inputVrf='default'), action='RECEIVED'), Step(detail=RoutingStepDetail(routes=[RouteInfo(protocol='ospf', network='100.0.7.0/24', nextHop=NextHopInterface(interface='Ethernet0', ip='1.0.0.2', type='interface'), nextHopIp=None, admin=110, metric=30)], forwardingDetail=ForwardedOutInterface(outputInterface='Ethernet0', resolvedNextHopIp='1.0.0.2', type='ForwardedOutInterface'), arpIp='1.0.0.2', outputInterface='Ethernet0'), action='FORWARDED'), Step(detail=TransformationStepDetail(transformationType='SOURCE_NAT', flowDiffs=[FlowDiff(fieldName='srcIp', oldValue='100.0.3.3', newValue='100.0.2.3')]), action='TRANSFORMED'), Step(detail=SetupSessionStepDetail(sessionScope=IncomingSessionScope(incomingInterfaces=['Ethernet0']), sessionAction=PostNatFibLookup(), matchCriteria=SessionMatchExpr(ipProtocol='UDP', srcIp='100.0.7.3', dstIp='100.0.2.3', srcPort=53, dstPort=53), transformation=[FlowDiff(fieldName='dstIp', oldValue='100.0.2.3', newValue='100.0.3.3')]), action='SETUP_SESSION'), Step(detail=ExitOutputIfaceStepDetail(outputInterface='Ethernet0', transformedFlow={'dscp': 0, 'dstIp': '100.0.7.3', 'dstPort': 53, 'ecn': 0, 'fragmentOffset': 0, 'ingressNode': 'source2', 'ingressVrf': 'default', 'ipProtocol': 'UDP', 'packetLength': 512, 'srcIp': '100.0.2.3', 'srcPort': 53, 'state': 'NEW', 'tag': 'tag', 'tcpFlagsAck': 0, 'tcpFlagsCwr': 0, 'tcpFlagsEce': 0, 'tcpFlagsFin': 0, 'tcpFlagsPsh': 0, 'tcpFlagsRst': 0, 'tcpFlagsSyn': 0, 'tcpFlagsUrg': 0}), action='TRANSMITTED')]), Hop(node='r_20', steps=[Step(detail=EnterInputIfaceStepDetail(inputInterface='Ethernet0', inputVrf='default'), action='RECEIVED'), Step(detail=RoutingStepDetail(routes=[RouteInfo(protocol='ospf', network='100.0.7.0/24', nextHop=NextHopInterface(interface='Ethernet1', ip='1.0.1.2', type='interface'), nextHopIp=None, admin=110, metric=20)], forwardingDetail=ForwardedOutInterface(outputInterface='Ethernet1', resolvedNextHopIp='1.0.1.2', type='ForwardedOutInterface'), arpIp='1.0.1.2', outputInterface='Ethernet1'), action='FORWARDED'), Step(detail=ExitOutputIfaceStepDetail(outputInterface='Ethernet1', transformedFlow=None), action='TRANSMITTED')]), Hop(node='r_2', steps=[Step(detail=EnterInputIfaceStepDetail(inputInterface='Ethernet0', inputVrf='default'), action='RECEIVED'), Step(detail=TransformationStepDetail(transformationType='DEST_NAT', flowDiffs=[FlowDiff(fieldName='dstIp', oldValue='100.0.7.3', newValue='100.0.8.3')]), action='TRANSFORMED'), Step(detail=RoutingStepDetail(routes=[RouteInfo(protocol='connected', network='100.0.8.0/24', nextHop=NextHopInterface(interface='Ethernet2', ip=None, type='interface'), nextHopIp=None, admin=0, metric=0)], forwardingDetail=ForwardedOutInterface(outputInterface='Ethernet2', resolvedNextHopIp=None, type='ForwardedOutInterface'), arpIp=None, outputInterface='Ethernet2'), action='FORWARDED'), Step(detail=FilterStepDetail(filter='ACL300', filterType='EGRESS_FILTER', inputInterface='Ethernet0', flow=Flow(dscp=0, dstIp='100.0.8.3', dstPort=53, ecn=0, fragmentOffset=0, icmpCode=None, icmpVar=None, ingressInterface=None, ingressNode='source2', ingressVrf='default', ipProtocol='UDP', packetLength=512, srcIp='100.0.2.3', srcPort=53, tcpFlagsAck=0, tcpFlagsCwr=0, tcpFlagsEce=0, tcpFlagsFin=0, tcpFlagsPsh=0, tcpFlagsRst=0, tcpFlagsSyn=0, tcpFlagsUrg=0)), action='PERMITTED'), Step(detail=SetupSessionStepDetail(sessionScope=IncomingSessionScope(incomingInterfaces=['Ethernet1', 'Ethernet2', 'Ethernet3', 'Ethernet4']), sessionAction=PreNatFibLookup(), matchCriteria=SessionMatchExpr(ipProtocol='UDP', srcIp='100.0.8.3', dstIp='100.0.2.3', srcPort=53, dstPort=53), transformation=[FlowDiff(fieldName='srcIp', oldValue='100.0.8.3', newValue='100.0.7.3')]), action='SETUP_SESSION'), Step(detail=ExitOutputIfaceStepDetail(outputInterface='Ethernet2', transformedFlow={'dscp': 0, 'dstIp': '100.0.8.3', 'dstPort': 53, 'ecn': 0, 'fragmentOffset': 0, 'ingressNode': 'source2', 'ingressVrf': 'default', 'ipProtocol': 'UDP', 'packetLength': 512, 'srcIp': '100.0.2.3', 'srcPort': 53, 'state': 'NEW', 'tag': 'tag', 'tcpFlagsAck': 0, 'tcpFlagsCwr': 0, 'tcpFlagsEce': 0, 'tcpFlagsFin': 0, 'tcpFlagsPsh': 0, 'tcpFlagsRst': 0, 'tcpFlagsSyn': 0, 'tcpFlagsUrg': 0}), action='TRANSMITTED')]), Hop(node='dest2', steps=[Step(detail=EnterInputIfaceStepDetail(inputInterface='eth0', inputVrf='default'), action='RECEIVED'), Step(detail=InboundStepDetail(interface='eth0'), action='ACCEPTED')])])"
      ]
     },
     "metadata": {},
     "output_type": "display_data"
    }
   ],
   "source": [
    "name = \"Invariant2\"\n",
    "BASE_NETWORK_NAME = name \n",
    "BASE_SNAPSHOT_NAME = name\n",
    "BASE_SNAPSHOT_PATH = \"./{}\".format(name)\n",
    "# Now create the network and initialize the snapshot\n",
    "bf.set_network(BASE_NETWORK_NAME)\n",
    "bf.init_snapshot(BASE_SNAPSHOT_PATH, name=BASE_SNAPSHOT_NAME, overwrite=True)\n",
    "begin = time.time()\n",
    "result = bf.q.reachability(pathConstraints=PathConstraints(startLocation = '/source/'), headers=HeaderConstraints(dstIps='/dest1/', srcPorts=53, dstPorts=53, ipProtocols='UDP', applications='DNS'), actions='SUCCESS', ignoreFilters=False).answer(BASE_SNAPSHOT_NAME).frame()\n",
    "\n",
    "\n",
    "result2 = bf.q.reachability(pathConstraints=PathConstraints(startLocation = '/source/'), headers=HeaderConstraints(dstIps='/dest2/', srcPorts=53, dstPorts=53, ipProtocols='UDP', applications='DNS'), actions='SUCCESS', ignoreFilters=False).answer(BASE_SNAPSHOT_NAME).frame()\n",
    "end = time.time()\n",
    "print(\"All sources to dest1\\n\",result.Flow)\n",
    "print(\"All sources to dest2\\n\",result2.Flow)\n",
    "print(\"Time: \", end-begin)\n",
    "print((\"node: source2\" in str(result.Traces[1][0][0])))\n",
    "show(result.Traces[1][0])"
   ]
  },
  {
   "cell_type": "code",
   "execution_count": null,
   "metadata": {},
   "outputs": [],
   "source": []
  },
  {
   "cell_type": "code",
   "execution_count": null,
   "metadata": {},
   "outputs": [],
   "source": []
  }
 ],
 "metadata": {
  "hide_input": false,
  "kernelspec": {
   "display_name": "Python 3",
   "language": "python",
   "name": "python3"
  },
  "language_info": {
   "codemirror_mode": {
    "name": "ipython",
    "version": 3
   },
   "file_extension": ".py",
   "mimetype": "text/x-python",
   "name": "python",
   "nbconvert_exporter": "python",
   "pygments_lexer": "ipython3",
   "version": "3.8.10"
  }
 },
 "nbformat": 4,
 "nbformat_minor": 2
}

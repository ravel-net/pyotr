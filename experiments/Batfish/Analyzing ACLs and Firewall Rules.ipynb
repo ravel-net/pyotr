{
 "cells": [
  {
   "cell_type": "code",
   "execution_count": 9,
   "metadata": {},
   "outputs": [],
   "source": [
    "from pybatfish.client.session import Session  # noqa: F401\n",
    "# noinspection PyUnresolvedReferences\n",
    "from pybatfish.datamodel import Edge, Interface  # noqa: F401\n",
    "from pybatfish.datamodel.answer import TableAnswer\n",
    "from pybatfish.datamodel.flow import HeaderConstraints, PathConstraints  # noqa: F401\n",
    "import time\n",
    "# %run startup.py\n",
    "bf = Session(host=\"localhost\")"
   ]
  },
  {
   "cell_type": "code",
   "execution_count": 12,
   "metadata": {},
   "outputs": [
    {
     "name": "stdout",
     "output_type": "stream",
     "text": [
      "All sources to dest1\n",
      " 0    start=source1 [100.0.2.3:53->100.0.7.3:53 UDP]\n",
      "1    start=source2 [100.0.3.3:53->100.0.7.3:53 UDP]\n",
      "2    start=source3 [100.0.4.3:53->100.0.7.3:53 UDP]\n",
      "Name: Flow, dtype: object\n",
      "All sources to dest2\n",
      " 0    start=source1 [100.0.2.3:53->100.0.8.3:53 UDP]\n",
      "1    start=source3 [100.0.4.3:53->100.0.8.3:53 UDP]\n",
      "Name: Flow, dtype: object\n",
      "Time:  0.41001129150390625\n"
     ]
    },
    {
     "ename": "NameError",
     "evalue": "name 'show' is not defined",
     "output_type": "error",
     "traceback": [
      "\u001b[0;31m---------------------------------------------------------------------------\u001b[0m",
      "\u001b[0;31mNameError\u001b[0m                                 Traceback (most recent call last)",
      "\u001b[0;32m<ipython-input-12-6bd60f9a9de7>\u001b[0m in \u001b[0;36m<module>\u001b[0;34m\u001b[0m\n\u001b[1;32m     15\u001b[0m \u001b[0mprint\u001b[0m\u001b[0;34m(\u001b[0m\u001b[0;34m\"All sources to dest2\\n\"\u001b[0m\u001b[0;34m,\u001b[0m\u001b[0mresult2\u001b[0m\u001b[0;34m.\u001b[0m\u001b[0mFlow\u001b[0m\u001b[0;34m)\u001b[0m\u001b[0;34m\u001b[0m\u001b[0;34m\u001b[0m\u001b[0m\n\u001b[1;32m     16\u001b[0m \u001b[0mprint\u001b[0m\u001b[0;34m(\u001b[0m\u001b[0;34m\"Time: \"\u001b[0m\u001b[0;34m,\u001b[0m \u001b[0mend\u001b[0m\u001b[0;34m-\u001b[0m\u001b[0mbegin\u001b[0m\u001b[0;34m)\u001b[0m\u001b[0;34m\u001b[0m\u001b[0;34m\u001b[0m\u001b[0m\n\u001b[0;32m---> 17\u001b[0;31m \u001b[0mshow\u001b[0m\u001b[0;34m(\u001b[0m\u001b[0mresult\u001b[0m\u001b[0;34m)\u001b[0m\u001b[0;34m\u001b[0m\u001b[0;34m\u001b[0m\u001b[0m\n\u001b[0m",
      "\u001b[0;31mNameError\u001b[0m: name 'show' is not defined"
     ]
    }
   ],
   "source": [
    "name = \"Invariant2\"\n",
    "BASE_NETWORK_NAME = name \n",
    "BASE_SNAPSHOT_NAME = name\n",
    "BASE_SNAPSHOT_PATH = \"./{}\".format(name)\n",
    "# Now create the network and initialize the snapshot\n",
    "bf.set_network(BASE_NETWORK_NAME)\n",
    "bf.init_snapshot(BASE_SNAPSHOT_PATH, name=BASE_SNAPSHOT_NAME, overwrite=True)\n",
    "begin = time.time()\n",
    "result = bf.q.reachability(pathConstraints=PathConstraints(startLocation = '/source/'), headers=HeaderConstraints(dstIps='/dest1/', srcPorts=53, dstPorts=53, ipProtocols='UDP', applications='DNS'), actions='SUCCESS', ignoreFilters=False).answer(BASE_SNAPSHOT_NAME).frame()\n",
    "\n",
    "\n",
    "result2 = bf.q.reachability(pathConstraints=PathConstraints(startLocation = '/source/'), headers=HeaderConstraints(dstIps='/dest2/', srcPorts=53, dstPorts=53, ipProtocols='UDP', applications='DNS'), actions='SUCCESS', ignoreFilters=False).answer(BASE_SNAPSHOT_NAME).frame()\n",
    "end = time.time()\n",
    "print(\"All sources to dest1\\n\",result.Flow)\n",
    "print(\"All sources to dest2\\n\",result2.Flow)\n",
    "print(\"Time: \", end-begin)\n",
    "show(result)"
   ]
  },
  {
   "cell_type": "code",
   "execution_count": null,
   "metadata": {},
   "outputs": [],
   "source": []
  },
  {
   "cell_type": "code",
   "execution_count": null,
   "metadata": {},
   "outputs": [],
   "source": []
  }
 ],
 "metadata": {
  "hide_input": false,
  "kernelspec": {
   "display_name": "Python 3",
   "language": "python",
   "name": "python3"
  },
  "language_info": {
   "codemirror_mode": {
    "name": "ipython",
    "version": 3
   },
   "file_extension": ".py",
   "mimetype": "text/x-python",
   "name": "python",
   "nbconvert_exporter": "python",
   "pygments_lexer": "ipython3",
   "version": "3.8.10"
  }
 },
 "nbformat": 4,
 "nbformat_minor": 2
}
